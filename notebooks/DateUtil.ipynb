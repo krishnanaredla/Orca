{
 "cells": [
  {
   "cell_type": "code",
   "execution_count": 2,
   "metadata": {},
   "outputs": [],
   "source": [
    "from pyspark.sql import SparkSession\n",
    "from pyspark.sql import DataFrame\n",
    "from pyspark.sql import functions as F\n",
    "from pyspark.sql.types import *\n",
    "spark = SparkSession.builder.getOrCreate()"
   ]
  },
  {
   "cell_type": "code",
   "execution_count": 3,
   "metadata": {},
   "outputs": [],
   "source": [
    "data = spark.read.parquet(r'C:\\work\\python-packages\\mimic\\mimic\\examples\\orders.parquet')"
   ]
  },
  {
   "cell_type": "code",
   "execution_count": 4,
   "metadata": {},
   "outputs": [],
   "source": [
    "data = data.withColumn('simpleDate',\n",
    "    F.concat_ws('',F.substring(F.col('OrderDate').cast(StringType()),0,4),\n",
    "    F.substring(F.col('OrderDate').cast(StringType()),6,2),\n",
    "    F.substring(F.col('OrderDate').cast(StringType()),9,2))\n",
    ")"
   ]
  },
  {
   "cell_type": "code",
   "execution_count": 5,
   "metadata": {},
   "outputs": [
    {
     "name": "stdout",
     "output_type": "stream",
     "text": [
      "+-----------+--------------------+----------+---------+-------------+-------+----------+\n",
      "|    orderID|           OrderDate|OrderValue|OrderType|OrderCategory|   city|simpleDate|\n",
      "+-----------+--------------------+----------+---------+-------------+-------+----------+\n",
      "|ORDLBWA5119|2004-10-02 09:28:...|   8135.52|      COD|         Home| durham|  20041002|\n",
      "|ORDJQOW0469|2013-08-30 12:04:...|   6013.05|      COD|         Home|toronto|  20130830|\n",
      "|ORDADHV6229|2017-09-13 20:33:...|   5115.79|      COD|      Furnish|toronto|  20170913|\n",
      "|ORDOPWV1894|2004-03-03 15:36:...|   5361.52|      COD|  Electronics|toronto|  20040303|\n",
      "|ORDENUU3212|2004-05-26 21:57:...|   2505.97|      COD|      Furnish| durham|  20040526|\n",
      "|ORDKWLI8989|2013-05-30 07:26:...|   6577.39|      COD|         Home|halifax|  20130530|\n",
      "|ORDNTEZ1527|2013-02-18 01:17:...|    5928.3|      COD|      Furnish|halifax|  20130218|\n",
      "|ORDLNTY3345|2008-10-03 02:34:...|   6103.64|      COD|      Furnish| durham|  20081003|\n",
      "|ORDXYPI3010|2008-09-09 08:58:...|   5628.92|      COD|      Furnish|halifax|  20080909|\n",
      "|ORDSPVJ3801|2001-03-05 21:37:...|   4410.64|      COD|         Home|halifax|  20010305|\n",
      "|ORDZYPX5707|2002-08-27 09:01:...|    2024.7|      COD|  Electronics|halifax|  20020827|\n",
      "|ORDPSVH1562|2006-10-08 23:29:...|   9683.48|      COD|         Home|toronto|  20061008|\n",
      "|ORDDNHV8456|2015-12-30 03:30:...|   4724.65|      COD|         Home| durham|  20151230|\n",
      "|ORDQQFP4942|2000-03-09 18:39:...|   2060.94|      COD|         Home|halifax|  20000309|\n",
      "|ORDKZUD7275|2000-06-03 01:05:...|   5607.57|      COD|      Furnish|halifax|  20000603|\n",
      "|ORDEBLV9972|2015-09-25 07:44:...|   3131.81|      COD|         Home|toronto|  20150925|\n",
      "|ORDPLMB0588|2005-10-05 23:01:...|    5073.8|      COD|         Home| durham|  20051005|\n",
      "|ORDIGAC5444|2019-01-12 12:12:...|   4665.17|      COD|  Electronics|halifax|  20190112|\n",
      "|ORDUIJV8919|2010-04-22 02:57:...|    9942.8|      COD|  Electronics|halifax|  20100422|\n",
      "|ORDYFHV5031|2020-06-09 00:50:...|   2979.93|      COD|  Electronics| durham|  20200609|\n",
      "+-----------+--------------------+----------+---------+-------------+-------+----------+\n",
      "only showing top 20 rows\n",
      "\n"
     ]
    }
   ],
   "source": [
    "data.show()"
   ]
  },
  {
   "cell_type": "code",
   "execution_count": 4,
   "metadata": {},
   "outputs": [],
   "source": [
    "import dateutil.parser\n",
    "import datetime"
   ]
  },
  {
   "cell_type": "code",
   "execution_count": 51,
   "metadata": {},
   "outputs": [
    {
     "data": {
      "text/plain": [
       "'2001/01/01'"
      ]
     },
     "execution_count": 51,
     "metadata": {},
     "output_type": "execute_result"
    }
   ],
   "source": [
    "yourdate = dateutil.parser.parse('20010101')\n",
    "#isinstance(yourdate,datetime.datetime)\n",
    "yourdate.strftime('%Y/%m/%d')"
   ]
  },
  {
   "cell_type": "code",
   "execution_count": 36,
   "metadata": {},
   "outputs": [
    {
     "name": "stdout",
     "output_type": "stream",
     "text": [
      "Requirement already satisfied: pyarrow in c:\\programming\\miniconda\\lib\\site-packages (0.15.1)\n",
      "Requirement already satisfied: numpy>=1.14 in c:\\programming\\miniconda\\lib\\site-packages (from pyarrow) (1.19.1)\n",
      "Requirement already satisfied: six>=1.0.0 in c:\\programming\\miniconda\\lib\\site-packages (from pyarrow) (1.15.0)\n"
     ]
    }
   ],
   "source": [
    "!pip install --trusted-host pypi.org --trusted-host files.pythonhosted.org pyarrow"
   ]
  },
  {
   "cell_type": "code",
   "execution_count": 120,
   "metadata": {},
   "outputs": [],
   "source": [
    "import pandas as pd\n",
    "from pyspark.sql.functions import udf\n",
    "from typing import Any\n",
    "\n",
    "\n",
    "\n",
    "def convertDate(dt:Any,dformat:str='%Y-%m-%d') -> Any:\n",
    "    if isinstance(dt,str):\n",
    "        converted = dateutil.parser.parse(dt)\n",
    "    elif isinstance(dt,datetime.datetime):\n",
    "        converted = dt\n",
    "    elif isinstance(dt,(int,float)):\n",
    "        converted = dateutil.parser.parse(str(int(dt)))\n",
    "    else:\n",
    "        return 'Unrecognized format'\n",
    "    return converted.strftime(dformat)\n",
    "    \n",
    "converter = udf(convertDate,returnType=StringType())    \n",
    "\n",
    "def udf_date(dformat:str='%Y-%m-%d'):\n",
    "    return udf(lambda dt: convertDate(dt, dformat))"
   ]
  },
  {
   "cell_type": "code",
   "execution_count": null,
   "metadata": {},
   "outputs": [],
   "source": [
    "def dateFormatter(dt:Any,dformat:str='%Y-%m-%d')"
   ]
  },
  {
   "cell_type": "code",
   "execution_count": 117,
   "metadata": {},
   "outputs": [],
   "source": [
    "from pyspark.sql.column import Column\n",
    "class dateFormatter(object):\n",
    "    def __init__(self,col_name='a',fmt:str='%Y-%m-%d')->None:\n",
    "        self.col_name = col_name\n",
    "        self.fmt      = fmt\n",
    "    @property\n",
    "    def uds(self):\n",
    "        return self.fmt\n",
    "    def _(self,dt:Any='a')->Any:\n",
    "        if isinstance(dt,str):\n",
    "            converted = dateutil.parser.parse(dt)\n",
    "        elif isinstance(dt,datetime.datetime):\n",
    "            converted = dt\n",
    "        elif isinstance(dt,(int,float)):\n",
    "            converted = dateutil.parser.parse(str(int(dt)))\n",
    "        else:\n",
    "            return 'Unrecognized format'\n",
    "        return converted.strftime(dformat)"
   ]
  },
  {
   "cell_type": "code",
   "execution_count": null,
   "metadata": {},
   "outputs": [],
   "source": [
    "def dateFormatter(df:DataFrame,dtfmt:str='%Y-%m-%d')-> DataFrame:\n",
    "    "
   ]
  },
  {
   "cell_type": "code",
   "execution_count": 119,
   "metadata": {},
   "outputs": [
    {
     "data": {
      "text/plain": [
       "'%Y-%m-%d'"
      ]
     },
     "execution_count": 119,
     "metadata": {},
     "output_type": "execute_result"
    }
   ],
   "source": [
    "dateFormatter().uds"
   ]
  },
  {
   "cell_type": "code",
   "execution_count": 122,
   "metadata": {},
   "outputs": [
    {
     "name": "stdout",
     "output_type": "stream",
     "text": [
      "+-----------+--------------------+----------+---------+-------------+-------+----------+----------+\n",
      "|    orderID|           OrderDate|OrderValue|OrderType|OrderCategory|   city|simpleDate|      test|\n",
      "+-----------+--------------------+----------+---------+-------------+-------+----------+----------+\n",
      "|ORDLBWA5119|2004-10-02 09:28:...|   8135.52|      COD|         Home| durham|  20041002|2004-10-02|\n",
      "|ORDJQOW0469|2013-08-30 12:04:...|   6013.05|      COD|         Home|toronto|  20130830|2013-08-30|\n",
      "|ORDADHV6229|2017-09-13 20:33:...|   5115.79|      COD|      Furnish|toronto|  20170913|2017-09-13|\n",
      "|ORDOPWV1894|2004-03-03 15:36:...|   5361.52|      COD|  Electronics|toronto|  20040303|2004-03-03|\n",
      "|ORDENUU3212|2004-05-26 21:57:...|   2505.97|      COD|      Furnish| durham|  20040526|2004-05-26|\n",
      "|ORDKWLI8989|2013-05-30 07:26:...|   6577.39|      COD|         Home|halifax|  20130530|2013-05-30|\n",
      "|ORDNTEZ1527|2013-02-18 01:17:...|    5928.3|      COD|      Furnish|halifax|  20130218|2013-02-18|\n",
      "|ORDLNTY3345|2008-10-03 02:34:...|   6103.64|      COD|      Furnish| durham|  20081003|2008-10-03|\n",
      "|ORDXYPI3010|2008-09-09 08:58:...|   5628.92|      COD|      Furnish|halifax|  20080909|2008-09-09|\n",
      "|ORDSPVJ3801|2001-03-05 21:37:...|   4410.64|      COD|         Home|halifax|  20010305|2001-03-05|\n",
      "|ORDZYPX5707|2002-08-27 09:01:...|    2024.7|      COD|  Electronics|halifax|  20020827|2002-08-27|\n",
      "|ORDPSVH1562|2006-10-08 23:29:...|   9683.48|      COD|         Home|toronto|  20061008|2006-10-08|\n",
      "|ORDDNHV8456|2015-12-30 03:30:...|   4724.65|      COD|         Home| durham|  20151230|2015-12-30|\n",
      "|ORDQQFP4942|2000-03-09 18:39:...|   2060.94|      COD|         Home|halifax|  20000309|2000-03-09|\n",
      "|ORDKZUD7275|2000-06-03 01:05:...|   5607.57|      COD|      Furnish|halifax|  20000603|2000-06-03|\n",
      "|ORDEBLV9972|2015-09-25 07:44:...|   3131.81|      COD|         Home|toronto|  20150925|2015-09-25|\n",
      "|ORDPLMB0588|2005-10-05 23:01:...|    5073.8|      COD|         Home| durham|  20051005|2005-10-05|\n",
      "|ORDIGAC5444|2019-01-12 12:12:...|   4665.17|      COD|  Electronics|halifax|  20190112|2019-01-12|\n",
      "|ORDUIJV8919|2010-04-22 02:57:...|    9942.8|      COD|  Electronics|halifax|  20100422|2010-04-22|\n",
      "|ORDYFHV5031|2020-06-09 00:50:...|   2979.93|      COD|  Electronics| durham|  20200609|2020-06-09|\n",
      "+-----------+--------------------+----------+---------+-------------+-------+----------+----------+\n",
      "only showing top 20 rows\n",
      "\n"
     ]
    }
   ],
   "source": [
    "data.withColumn('test',udf_date()(F.col('OrderDate'))).show()"
   ]
  },
  {
   "cell_type": "code",
   "execution_count": 123,
   "metadata": {},
   "outputs": [
    {
     "name": "stdout",
     "output_type": "stream",
     "text": [
      "+----------+----------+\n",
      "|simpleDate|      test|\n",
      "+----------+----------+\n",
      "|  20041002|2004-10-02|\n",
      "|  20130830|2013-08-30|\n",
      "|  20170913|2017-09-13|\n",
      "|  20040303|2004-03-03|\n",
      "|  20040526|2004-05-26|\n",
      "|  20130530|2013-05-30|\n",
      "|  20130218|2013-02-18|\n",
      "|  20081003|2008-10-03|\n",
      "|  20080909|2008-09-09|\n",
      "|  20010305|2001-03-05|\n",
      "|  20020827|2002-08-27|\n",
      "|  20061008|2006-10-08|\n",
      "|  20151230|2015-12-30|\n",
      "|  20000309|2000-03-09|\n",
      "|  20000603|2000-06-03|\n",
      "|  20150925|2015-09-25|\n",
      "|  20051005|2005-10-05|\n",
      "|  20190112|2019-01-12|\n",
      "|  20100422|2010-04-22|\n",
      "|  20200609|2020-06-09|\n",
      "+----------+----------+\n",
      "only showing top 20 rows\n",
      "\n"
     ]
    }
   ],
   "source": [
    "fmt = '%Y/%m/%d'\n",
    "data.withColumn('test',udf_date()(F.col('simpleDate'))).select('simpleDate','test').show()"
   ]
  },
  {
   "cell_type": "code",
   "execution_count": 6,
   "metadata": {},
   "outputs": [],
   "source": [
    "spark.stop()"
   ]
  },
  {
   "cell_type": "code",
   "execution_count": 7,
   "metadata": {},
   "outputs": [
    {
     "ename": "AttributeError",
     "evalue": "'NoneType' object has no attribute 'sc'",
     "output_type": "error",
     "traceback": [
      "\u001b[1;31m---------------------------------------------------------------------------\u001b[0m",
      "\u001b[1;31mAttributeError\u001b[0m                            Traceback (most recent call last)",
      "\u001b[1;32mC:\\programming\\miniconda\\lib\\site-packages\\IPython\\core\\formatters.py\u001b[0m in \u001b[0;36m__call__\u001b[1;34m(self, obj)\u001b[0m\n\u001b[0;32m    343\u001b[0m             \u001b[0mmethod\u001b[0m \u001b[1;33m=\u001b[0m \u001b[0mget_real_method\u001b[0m\u001b[1;33m(\u001b[0m\u001b[0mobj\u001b[0m\u001b[1;33m,\u001b[0m \u001b[0mself\u001b[0m\u001b[1;33m.\u001b[0m\u001b[0mprint_method\u001b[0m\u001b[1;33m)\u001b[0m\u001b[1;33m\u001b[0m\u001b[1;33m\u001b[0m\u001b[0m\n\u001b[0;32m    344\u001b[0m             \u001b[1;32mif\u001b[0m \u001b[0mmethod\u001b[0m \u001b[1;32mis\u001b[0m \u001b[1;32mnot\u001b[0m \u001b[1;32mNone\u001b[0m\u001b[1;33m:\u001b[0m\u001b[1;33m\u001b[0m\u001b[1;33m\u001b[0m\u001b[0m\n\u001b[1;32m--> 345\u001b[1;33m                 \u001b[1;32mreturn\u001b[0m \u001b[0mmethod\u001b[0m\u001b[1;33m(\u001b[0m\u001b[1;33m)\u001b[0m\u001b[1;33m\u001b[0m\u001b[1;33m\u001b[0m\u001b[0m\n\u001b[0m\u001b[0;32m    346\u001b[0m             \u001b[1;32mreturn\u001b[0m \u001b[1;32mNone\u001b[0m\u001b[1;33m\u001b[0m\u001b[1;33m\u001b[0m\u001b[0m\n\u001b[0;32m    347\u001b[0m         \u001b[1;32melse\u001b[0m\u001b[1;33m:\u001b[0m\u001b[1;33m\u001b[0m\u001b[1;33m\u001b[0m\u001b[0m\n",
      "\u001b[1;32mC:\\programming\\miniconda\\lib\\site-packages\\pyspark\\sql\\session.py\u001b[0m in \u001b[0;36m_repr_html_\u001b[1;34m(self)\u001b[0m\n\u001b[0;32m    250\u001b[0m         \"\"\".format(\n\u001b[0;32m    251\u001b[0m             \u001b[0mcatalogImplementation\u001b[0m\u001b[1;33m=\u001b[0m\u001b[0mself\u001b[0m\u001b[1;33m.\u001b[0m\u001b[0mconf\u001b[0m\u001b[1;33m.\u001b[0m\u001b[0mget\u001b[0m\u001b[1;33m(\u001b[0m\u001b[1;34m\"spark.sql.catalogImplementation\"\u001b[0m\u001b[1;33m)\u001b[0m\u001b[1;33m,\u001b[0m\u001b[1;33m\u001b[0m\u001b[1;33m\u001b[0m\u001b[0m\n\u001b[1;32m--> 252\u001b[1;33m             \u001b[0msc_HTML\u001b[0m\u001b[1;33m=\u001b[0m\u001b[0mself\u001b[0m\u001b[1;33m.\u001b[0m\u001b[0msparkContext\u001b[0m\u001b[1;33m.\u001b[0m\u001b[0m_repr_html_\u001b[0m\u001b[1;33m(\u001b[0m\u001b[1;33m)\u001b[0m\u001b[1;33m\u001b[0m\u001b[1;33m\u001b[0m\u001b[0m\n\u001b[0m\u001b[0;32m    253\u001b[0m         )\n\u001b[0;32m    254\u001b[0m \u001b[1;33m\u001b[0m\u001b[0m\n",
      "\u001b[1;32mC:\\programming\\miniconda\\lib\\site-packages\\pyspark\\context.py\u001b[0m in \u001b[0;36m_repr_html_\u001b[1;34m(self)\u001b[0m\n\u001b[0;32m    285\u001b[0m \u001b[1;33m\u001b[0m\u001b[0m\n\u001b[0;32m    286\u001b[0m     \u001b[1;32mdef\u001b[0m \u001b[0m_repr_html_\u001b[0m\u001b[1;33m(\u001b[0m\u001b[0mself\u001b[0m\u001b[1;33m)\u001b[0m\u001b[1;33m:\u001b[0m\u001b[1;33m\u001b[0m\u001b[1;33m\u001b[0m\u001b[0m\n\u001b[1;32m--> 287\u001b[1;33m         return \"\"\"\n\u001b[0m\u001b[0;32m    288\u001b[0m         \u001b[1;33m<\u001b[0m\u001b[0mdiv\u001b[0m\u001b[1;33m>\u001b[0m\u001b[1;33m\u001b[0m\u001b[1;33m\u001b[0m\u001b[0m\n\u001b[0;32m    289\u001b[0m             \u001b[1;33m<\u001b[0m\u001b[0mp\u001b[0m\u001b[1;33m>\u001b[0m\u001b[1;33m<\u001b[0m\u001b[0mb\u001b[0m\u001b[1;33m>\u001b[0m\u001b[0mSparkContext\u001b[0m\u001b[1;33m<\u001b[0m\u001b[1;33m/\u001b[0m\u001b[0mb\u001b[0m\u001b[1;33m>\u001b[0m\u001b[1;33m<\u001b[0m\u001b[1;33m/\u001b[0m\u001b[0mp\u001b[0m\u001b[1;33m>\u001b[0m\u001b[1;33m\u001b[0m\u001b[1;33m\u001b[0m\u001b[0m\n",
      "\u001b[1;32mC:\\programming\\miniconda\\lib\\site-packages\\pyspark\\context.py\u001b[0m in \u001b[0;36muiWebUrl\u001b[1;34m(self)\u001b[0m\n\u001b[0;32m    413\u001b[0m     \u001b[1;32mdef\u001b[0m \u001b[0muiWebUrl\u001b[0m\u001b[1;33m(\u001b[0m\u001b[0mself\u001b[0m\u001b[1;33m)\u001b[0m\u001b[1;33m:\u001b[0m\u001b[1;33m\u001b[0m\u001b[1;33m\u001b[0m\u001b[0m\n\u001b[0;32m    414\u001b[0m         \u001b[1;34m\"\"\"Return the URL of the SparkUI instance started by this SparkContext\"\"\"\u001b[0m\u001b[1;33m\u001b[0m\u001b[1;33m\u001b[0m\u001b[0m\n\u001b[1;32m--> 415\u001b[1;33m         \u001b[1;32mreturn\u001b[0m \u001b[0mself\u001b[0m\u001b[1;33m.\u001b[0m\u001b[0m_jsc\u001b[0m\u001b[1;33m.\u001b[0m\u001b[0msc\u001b[0m\u001b[1;33m(\u001b[0m\u001b[1;33m)\u001b[0m\u001b[1;33m.\u001b[0m\u001b[0muiWebUrl\u001b[0m\u001b[1;33m(\u001b[0m\u001b[1;33m)\u001b[0m\u001b[1;33m.\u001b[0m\u001b[0mget\u001b[0m\u001b[1;33m(\u001b[0m\u001b[1;33m)\u001b[0m\u001b[1;33m\u001b[0m\u001b[1;33m\u001b[0m\u001b[0m\n\u001b[0m\u001b[0;32m    416\u001b[0m \u001b[1;33m\u001b[0m\u001b[0m\n\u001b[0;32m    417\u001b[0m     \u001b[1;33m@\u001b[0m\u001b[0mproperty\u001b[0m\u001b[1;33m\u001b[0m\u001b[1;33m\u001b[0m\u001b[0m\n",
      "\u001b[1;31mAttributeError\u001b[0m: 'NoneType' object has no attribute 'sc'"
     ]
    },
    {
     "data": {
      "text/plain": [
       "<pyspark.sql.session.SparkSession at 0x1e1cca36b50>"
      ]
     },
     "execution_count": 7,
     "metadata": {},
     "output_type": "execute_result"
    }
   ],
   "source": [
    "spark"
   ]
  },
  {
   "cell_type": "code",
   "execution_count": null,
   "metadata": {},
   "outputs": [],
   "source": []
  }
 ],
 "metadata": {
  "kernelspec": {
   "display_name": "Python 3",
   "language": "python",
   "name": "python3"
  },
  "language_info": {
   "codemirror_mode": {
    "name": "ipython",
    "version": 3
   },
   "file_extension": ".py",
   "mimetype": "text/x-python",
   "name": "python",
   "nbconvert_exporter": "python",
   "pygments_lexer": "ipython3",
   "version": "3.8.3"
  }
 },
 "nbformat": 4,
 "nbformat_minor": 4
}
