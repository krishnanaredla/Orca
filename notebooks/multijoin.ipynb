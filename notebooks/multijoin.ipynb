{
 "cells": [
  {
   "cell_type": "code",
   "execution_count": 1,
   "metadata": {},
   "outputs": [],
   "source": [
    "from pyspark.sql import SparkSession\n",
    "from pyspark.sql.functions import *"
   ]
  },
  {
   "cell_type": "code",
   "execution_count": 2,
   "metadata": {},
   "outputs": [],
   "source": [
    "spark = SparkSession.builder.getOrCreate()"
   ]
  },
  {
   "cell_type": "code",
   "execution_count": 16,
   "metadata": {},
   "outputs": [],
   "source": [
    "first = spark.createDataFrame([{'id': 1, 'value': None}, {'id': 2, 'value': 2}])\n",
    "second = spark.createDataFrame([{'id': 1, 'value': 1}, {'id': 2, 'value': 22}])\n",
    "third = spark.createDataFrame([{'id': 1, 'value': 10}, {'id': 2, 'value': 226}])"
   ]
  },
  {
   "cell_type": "code",
   "execution_count": 21,
   "metadata": {},
   "outputs": [],
   "source": [
    "from collections import defaultdict\n",
    "\n",
    "coalesces=['value']\n",
    "coalesces = set(coalesces or [])\n",
    "renamed_columns = defaultdict(list)"
   ]
  },
  {
   "cell_type": "code",
   "execution_count": 22,
   "metadata": {},
   "outputs": [],
   "source": [
    "dfs = [first,second,third]"
   ]
  },
  {
   "cell_type": "code",
   "execution_count": 23,
   "metadata": {},
   "outputs": [],
   "source": [
    "for idx,df in enumerate(dfs):\n",
    "    for col in df.columns:\n",
    "        if col in coalesces:\n",
    "            disambiguation = \"__{}_{}\".format(idx, col)\n",
    "            df = df.withColumnRenamed(col, disambiguation)\n",
    "            renamed_columns[col].append(disambiguation)\n",
    "    dfs[idx] = df"
   ]
  },
  {
   "cell_type": "code",
   "execution_count": 24,
   "metadata": {},
   "outputs": [
    {
     "data": {
      "text/plain": [
       "[DataFrame[id: bigint, __0_value: bigint],\n",
       " DataFrame[id: bigint, __1_value: bigint],\n",
       " DataFrame[id: bigint, __2_value: bigint]]"
      ]
     },
     "execution_count": 24,
     "metadata": {},
     "output_type": "execute_result"
    }
   ],
   "source": [
    "dfs"
   ]
  },
  {
   "cell_type": "code",
   "execution_count": 25,
   "metadata": {},
   "outputs": [],
   "source": [
    "from functools import reduce\n",
    "joined_df = reduce(lambda x, y: x.join(y, on='id', how='inner'), dfs)"
   ]
  },
  {
   "cell_type": "code",
   "execution_count": 26,
   "metadata": {},
   "outputs": [
    {
     "name": "stdout",
     "output_type": "stream",
     "text": [
      "+---+---------+---------+---------+\n",
      "| id|__0_value|__1_value|__2_value|\n",
      "+---+---------+---------+---------+\n",
      "|  1|     null|        1|       10|\n",
      "|  2|        2|       22|      226|\n",
      "+---+---------+---------+---------+\n",
      "\n"
     ]
    }
   ],
   "source": [
    "joined_df.show()"
   ]
  },
  {
   "cell_type": "code",
   "execution_count": 14,
   "metadata": {},
   "outputs": [],
   "source": [
    "\n",
    "for col, disambiguations in renamed_columns.items():\n",
    "    joined_df = joined_df.withColumn(col, coalesce(*disambiguations))\n",
    "    for disambiguation in disambiguations:\n",
    "        joined_df = joined_df.drop(disambiguation)"
   ]
  },
  {
   "cell_type": "code",
   "execution_count": 15,
   "metadata": {},
   "outputs": [
    {
     "name": "stdout",
     "output_type": "stream",
     "text": [
      "+---+-----+\n",
      "| id|value|\n",
      "+---+-----+\n",
      "|  1|    1|\n",
      "|  2|    2|\n",
      "+---+-----+\n",
      "\n"
     ]
    }
   ],
   "source": [
    "joined_df.show()"
   ]
  },
  {
   "cell_type": "code",
   "execution_count": 27,
   "metadata": {},
   "outputs": [
    {
     "name": "stdout",
     "output_type": "stream",
     "text": [
      "10\n"
     ]
    }
   ],
   "source": [
    "result = reduce((lambda a, b: a + b), [1, 2, 3, 4])\n",
    "print(result)"
   ]
  },
  {
   "cell_type": "code",
   "execution_count": 30,
   "metadata": {},
   "outputs": [
    {
     "name": "stdout",
     "output_type": "stream",
     "text": [
      "+---+-----+-----+-----+\n",
      "| id|value|value|value|\n",
      "+---+-----+-----+-----+\n",
      "|  1| null|    1|   10|\n",
      "|  2|    2|   22|  226|\n",
      "+---+-----+-----+-----+\n",
      "\n"
     ]
    }
   ],
   "source": [
    "first.join(second,[\"id\"],how=\"inner\").join(third,[\"id\"],how=\"inner\").show()"
   ]
  },
  {
   "cell_type": "code",
   "execution_count": 33,
   "metadata": {},
   "outputs": [],
   "source": [
    "from pyspark.sql import DataFrame\n",
    "def performJoin(left:DataFrame,\n",
    "               right:DataFrame,\n",
    "               condition:str=None,\n",
    "               joinType:str=None) -> DataFrame:\n",
    "    return left.join(right,condition,joinType)"
   ]
  },
  {
   "cell_type": "code",
   "execution_count": 43,
   "metadata": {},
   "outputs": [
    {
     "name": "stdout",
     "output_type": "stream",
     "text": [
      "+---+-----+-----+\n",
      "| id|value|value|\n",
      "+---+-----+-----+\n",
      "|  1| null|    1|\n",
      "|  2|    2|   22|\n",
      "+---+-----+-----+\n",
      "\n"
     ]
    }
   ],
   "source": [
    "performJoin(first,second,\"id\",\"leftouter\").show()"
   ]
  },
  {
   "cell_type": "code",
   "execution_count": 38,
   "metadata": {},
   "outputs": [],
   "source": [
    "dfs = [first,second]\n",
    "conditions = [\"id\"]\n",
    "joinType = []"
   ]
  },
  {
   "cell_type": "code",
   "execution_count": 47,
   "metadata": {},
   "outputs": [],
   "source": [
    "joins =  {\n",
    "    'dataFrames' : [first,second],\n",
    "    'conditions' : [\"id\"],\n",
    "    'joins'   : [\"inner\"]\n",
    "}"
   ]
  },
  {
   "cell_type": "code",
   "execution_count": 48,
   "metadata": {},
   "outputs": [
    {
     "data": {
      "text/plain": [
       "{'dataFrames': [DataFrame[id: bigint, value: bigint],\n",
       "  DataFrame[id: bigint, value: bigint]],\n",
       " 'conditions': ['id'],\n",
       " 'joins': ['inner']}"
      ]
     },
     "execution_count": 48,
     "metadata": {},
     "output_type": "execute_result"
    }
   ],
   "source": [
    "joins"
   ]
  },
  {
   "cell_type": "code",
   "execution_count": 49,
   "metadata": {},
   "outputs": [
    {
     "name": "stdout",
     "output_type": "stream",
     "text": [
      "+---+-----+-----+\n",
      "| id|value|value|\n",
      "+---+-----+-----+\n",
      "|  1| null|    1|\n",
      "|  2|    2|   22|\n",
      "+---+-----+-----+\n",
      "\n"
     ]
    }
   ],
   "source": [
    "performJoin(*joins['dataFrames'],\"id\",\"leftouter\").show()"
   ]
  },
  {
   "cell_type": "code",
   "execution_count": 51,
   "metadata": {},
   "outputs": [
    {
     "data": {
      "text/plain": [
       "<zip at 0x27caee4cb00>"
      ]
     },
     "execution_count": 51,
     "metadata": {},
     "output_type": "execute_result"
    }
   ],
   "source": [
    "zip([first,second],[\"id\"])"
   ]
  },
  {
   "cell_type": "code",
   "execution_count": 53,
   "metadata": {},
   "outputs": [
    {
     "name": "stdout",
     "output_type": "stream",
     "text": [
      "DataFrame[id: bigint, value: bigint] id\n",
      "DataFrame[id: bigint, value: bigint] d\n"
     ]
    }
   ],
   "source": [
    "for x,y in zip([first,second],[\"id\",\"d\"]):\n",
    "    print(x,y)"
   ]
  },
  {
   "cell_type": "code",
   "execution_count": 57,
   "metadata": {},
   "outputs": [],
   "source": [
    "joined_df = reduce(lambda x, y: x.join(y, on='id', how='inner'),dfs)"
   ]
  },
  {
   "cell_type": "code",
   "execution_count": 58,
   "metadata": {},
   "outputs": [
    {
     "name": "stdout",
     "output_type": "stream",
     "text": [
      "+---+---------+---------+---------+\n",
      "| id|__0_value|__1_value|__2_value|\n",
      "+---+---------+---------+---------+\n",
      "|  1|     null|        1|       10|\n",
      "|  2|        2|       22|      226|\n",
      "+---+---------+---------+---------+\n",
      "\n"
     ]
    }
   ],
   "source": [
    "joined_df.show()"
   ]
  },
  {
   "cell_type": "code",
   "execution_count": 59,
   "metadata": {},
   "outputs": [],
   "source": [
    "def add(x,y):\n",
    "    return x+y"
   ]
  },
  {
   "cell_type": "code",
   "execution_count": 69,
   "metadata": {},
   "outputs": [],
   "source": [
    "it = iter(dfs)"
   ]
  },
  {
   "cell_type": "code",
   "execution_count": 71,
   "metadata": {},
   "outputs": [
    {
     "ename": "StopIteration",
     "evalue": "",
     "output_type": "error",
     "traceback": [
      "\u001b[1;31m---------------------------------------------------------------------------\u001b[0m",
      "\u001b[1;31mStopIteration\u001b[0m                             Traceback (most recent call last)",
      "\u001b[1;32m<ipython-input-71-33ecfc6f7ee2>\u001b[0m in \u001b[0;36m<module>\u001b[1;34m\u001b[0m\n\u001b[1;32m----> 1\u001b[1;33m \u001b[0mvalue\u001b[0m \u001b[1;33m=\u001b[0m \u001b[0mnext\u001b[0m\u001b[1;33m(\u001b[0m\u001b[0mit\u001b[0m\u001b[1;33m)\u001b[0m\u001b[1;33m\u001b[0m\u001b[1;33m\u001b[0m\u001b[0m\n\u001b[0m",
      "\u001b[1;31mStopIteration\u001b[0m: "
     ]
    }
   ],
   "source": [
    "value = next(it)"
   ]
  },
  {
   "cell_type": "code",
   "execution_count": 70,
   "metadata": {},
   "outputs": [
    {
     "name": "stdout",
     "output_type": "stream",
     "text": [
      "DataFrame[id: bigint, __0_value: bigint]\n",
      "DataFrame[id: bigint, __1_value: bigint]\n",
      "DataFrame[id: bigint, __2_value: bigint]\n"
     ]
    }
   ],
   "source": [
    "for df in it:\n",
    "    print(df)"
   ]
  },
  {
   "cell_type": "code",
   "execution_count": 65,
   "metadata": {},
   "outputs": [],
   "source": [
    "def reduce(function, iterable, initializer=None):\n",
    "    it = iter(iterable)\n",
    "    if initializer is None:\n",
    "        value = next(it)\n",
    "    else:\n",
    "        value = initializer\n",
    "    for element in it:\n",
    "        value = function(value, element)\n",
    "    return value"
   ]
  },
  {
   "cell_type": "code",
   "execution_count": 105,
   "metadata": {},
   "outputs": [],
   "source": [
    "from typing import List\n",
    "from itertools import cycle\n",
    "\n",
    "def reduceJoins(dfs:List[DataFrame],\n",
    "                conditions:List[str]=[],\n",
    "                joinTypes:List[str]=[]):\n",
    "    it        = iter(dfs)\n",
    "    licycle = cycle(conditions)\n",
    "    value = next(it)\n",
    "    for element in it:\n",
    "        nextelem = next(licycle)\n",
    "        print(element,nextelem)\n",
    "        "
   ]
  },
  {
   "cell_type": "code",
   "execution_count": 106,
   "metadata": {},
   "outputs": [
    {
     "name": "stdout",
     "output_type": "stream",
     "text": [
      "DataFrame[id: bigint, value: bigint] id\n",
      "DataFrame[id: bigint, value: bigint] x\n"
     ]
    }
   ],
   "source": [
    "reduceJoins([first,second,third],[\"id\",\"x\"],[\"inner\"])"
   ]
  },
  {
   "cell_type": "code",
   "execution_count": 11,
   "metadata": {},
   "outputs": [],
   "source": [
    "from pyspark.sql import DataFrame\n",
    "from typing import List\n",
    "from itertools import cycle\n",
    "\n",
    "def performJoin(left:DataFrame,\n",
    "               right:DataFrame,\n",
    "               condition=None,\n",
    "               joinType:str=None) -> DataFrame:\n",
    "    return left.join(right,condition,joinType)\n",
    "\n",
    "def reduceJoins(dfs:List[DataFrame],\n",
    "               conditionsList:List=[],\n",
    "               joinsList:List[str]=[\"inner\"]) -> DataFrame :\n",
    "    frames      =  iter(dfs)\n",
    "    conditions  =  cycle(conditionsList)\n",
    "    joins       =  cycle(joinsList)\n",
    "    value       =  next(frames)\n",
    "    for element in frames:\n",
    "        try:\n",
    "            nextCondition = next(conditions)\n",
    "        except StopIteration as e:\n",
    "            nextCondition = None\n",
    "        #nextJoin      = lambda x : None if next(joins) is None else next(joins)\n",
    "        value = performJoin(value,element,nextCondition,next(joins))\n",
    "    return value"
   ]
  },
  {
   "cell_type": "code",
   "execution_count": 13,
   "metadata": {},
   "outputs": [
    {
     "name": "stdout",
     "output_type": "stream",
     "text": [
      "+--------+-----+---------+-----+--------+-----+\n",
      "|first_id|value|second_id|value|third_id|value|\n",
      "+--------+-----+---------+-----+--------+-----+\n",
      "|       1| null|        1|    1|       1|   10|\n",
      "|       2|    2|        2|   22|       2|  226|\n",
      "+--------+-----+---------+-----+--------+-----+\n",
      "\n"
     ]
    }
   ],
   "source": [
    "reduceJoins([first,second.hint(\"broadcast\"),third],[first.first_id==second.second_id,\n",
    "                                 second.second_id==third.third_id]).show()"
   ]
  },
  {
   "cell_type": "code",
   "execution_count": 3,
   "metadata": {},
   "outputs": [
    {
     "name": "stderr",
     "output_type": "stream",
     "text": [
      "C:\\programming\\miniconda\\lib\\site-packages\\pyspark\\sql\\session.py:378: UserWarning: inferring schema from dict is deprecated,please use pyspark.sql.Row instead\n",
      "  warnings.warn(\"inferring schema from dict is deprecated,\"\n"
     ]
    }
   ],
   "source": [
    "first = spark.createDataFrame([{'first_id': 1, 'value': None}, {'first_id': 2, 'value': 2}])\n",
    "second = spark.createDataFrame([{'second_id': 1, 'value': 1}, {'second_id': 2, 'value': 22}])\n",
    "third = spark.createDataFrame([{'third_id': 1, 'value': 10}, {'third_id': 2, 'value': 226}])"
   ]
  },
  {
   "cell_type": "code",
   "execution_count": 8,
   "metadata": {},
   "outputs": [
    {
     "ename": "ValueError",
     "evalue": "Cannot convert column into bool: please use '&' for 'and', '|' for 'or', '~' for 'not' when building DataFrame boolean expressions.",
     "output_type": "error",
     "traceback": [
      "\u001b[1;31m---------------------------------------------------------------------------\u001b[0m",
      "\u001b[1;31mValueError\u001b[0m                                Traceback (most recent call last)",
      "\u001b[1;32m<ipython-input-8-65538659fcf2>\u001b[0m in \u001b[0;36m<module>\u001b[1;34m\u001b[0m\n\u001b[1;32m----> 1\u001b[1;33m \u001b[0mtype\u001b[0m\u001b[1;33m(\u001b[0m\u001b[1;33m(\u001b[0m\u001b[1;33m(\u001b[0m\u001b[0mfirst\u001b[0m\u001b[1;33m.\u001b[0m\u001b[0mfirst_id\u001b[0m\u001b[1;33m==\u001b[0m\u001b[0msecond\u001b[0m\u001b[1;33m.\u001b[0m\u001b[0msecond_id\u001b[0m\u001b[1;33m)\u001b[0m \u001b[1;32mand\u001b[0m \u001b[1;33m(\u001b[0m\u001b[0mfirst\u001b[0m\u001b[1;33m.\u001b[0m\u001b[0mfirst_id\u001b[0m\u001b[1;33m==\u001b[0m\u001b[0msecond\u001b[0m\u001b[1;33m.\u001b[0m\u001b[0msecond_id\u001b[0m\u001b[1;33m)\u001b[0m\u001b[1;33m)\u001b[0m\u001b[1;33m)\u001b[0m\u001b[1;33m\u001b[0m\u001b[1;33m\u001b[0m\u001b[0m\n\u001b[0m",
      "\u001b[1;32mC:\\programming\\miniconda\\lib\\site-packages\\pyspark\\sql\\column.py\u001b[0m in \u001b[0;36m__nonzero__\u001b[1;34m(self)\u001b[0m\n\u001b[0;32m    699\u001b[0m \u001b[1;33m\u001b[0m\u001b[0m\n\u001b[0;32m    700\u001b[0m     \u001b[1;32mdef\u001b[0m \u001b[0m__nonzero__\u001b[0m\u001b[1;33m(\u001b[0m\u001b[0mself\u001b[0m\u001b[1;33m)\u001b[0m\u001b[1;33m:\u001b[0m\u001b[1;33m\u001b[0m\u001b[1;33m\u001b[0m\u001b[0m\n\u001b[1;32m--> 701\u001b[1;33m         raise ValueError(\"Cannot convert column into bool: please use '&' for 'and', '|' for 'or', \"\n\u001b[0m\u001b[0;32m    702\u001b[0m                          \"'~' for 'not' when building DataFrame boolean expressions.\")\n\u001b[0;32m    703\u001b[0m     \u001b[0m__bool__\u001b[0m \u001b[1;33m=\u001b[0m \u001b[0m__nonzero__\u001b[0m\u001b[1;33m\u001b[0m\u001b[1;33m\u001b[0m\u001b[0m\n",
      "\u001b[1;31mValueError\u001b[0m: Cannot convert column into bool: please use '&' for 'and', '|' for 'or', '~' for 'not' when building DataFrame boolean expressions."
     ]
    }
   ],
   "source": []
  },
  {
   "cell_type": "code",
   "execution_count": null,
   "metadata": {},
   "outputs": [],
   "source": []
  }
 ],
 "metadata": {
  "kernelspec": {
   "display_name": "Python 3",
   "language": "python",
   "name": "python3"
  },
  "language_info": {
   "codemirror_mode": {
    "name": "ipython",
    "version": 3
   },
   "file_extension": ".py",
   "mimetype": "text/x-python",
   "name": "python",
   "nbconvert_exporter": "python",
   "pygments_lexer": "ipython3",
   "version": "3.8.3"
  }
 },
 "nbformat": 4,
 "nbformat_minor": 4
}
