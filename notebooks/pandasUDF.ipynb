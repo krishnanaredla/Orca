{
 "cells": [
  {
   "cell_type": "code",
   "execution_count": 3,
   "metadata": {},
   "outputs": [],
   "source": [
    "import pandas as pd\n",
    "from pyspark.sql import SparkSession\n",
    "from pyspark import SparkConf\n",
    "from pyspark.sql import DataFrame\n",
    "from pyspark.sql import functions as F\n",
    "from pyspark.sql.types import *\n",
    "conf = SparkConf().set('spark.driver.extraJavaOptions','-Dio.netty.tryReflectionSetAccessible=true')\\\n",
    "                  .set('spark.executor.extraJavaOptions','-Dio.netty.tryReflectionSetAccessible=true')\n",
    "spark = SparkSession.builder.config(conf=conf).getOrCreate()"
   ]
  },
  {
   "cell_type": "code",
   "execution_count": 56,
   "metadata": {},
   "outputs": [],
   "source": [
    "from pyspark.sql.functions import *\n",
    "from typing import Any"
   ]
  },
  {
   "cell_type": "code",
   "execution_count": 69,
   "metadata": {},
   "outputs": [],
   "source": [
    "def convertDate(dt:Any,dformat:str='%Y-%m-%d') -> str:\n",
    "    if isinstance(dt,str):\n",
    "        converted = dateutil.parser.parse(dt)\n",
    "    elif isinstance(dt,datetime.datetime):\n",
    "        converted = dt\n",
    "    elif isinstance(dt,(int,float)):\n",
    "        converted = dateutil.parser.parse(str(int(dt)))\n",
    "    else:\n",
    "        return 'Unrecognized format'\n",
    "    return str(converted.strftime(dformat))\n",
    "\n",
    "def covertDatePandas(df:pd.Series)->pd.Series:\n",
    "    return df.apply(convertDate)\n",
    "\n",
    "converterScala  = udf(convertDate,returnType=StringType()) \n",
    "converterVector = pandas_udf(covertDatePandas,returnType=StringType())\n",
    "\n",
    "def udf_date(dformat:str='%Y-%m-%d',vector:bool=False):\n",
    "    return udf(lambda dt: converterVector(dt, dformat) if vector else converterScala)"
   ]
  },
  {
   "cell_type": "code",
   "execution_count": 75,
   "metadata": {},
   "outputs": [],
   "source": [
    "def convertDate(dt:Any,dformat:str='%Y-%m-%d') -> Any:\n",
    "    if isinstance(dt,str):\n",
    "        converted = dateutil.parser.parse(dt)\n",
    "    elif isinstance(dt,datetime.datetime):\n",
    "        converted = dt\n",
    "    elif isinstance(dt,(int,float)):\n",
    "        converted = dateutil.parser.parse(str(int(dt)))\n",
    "    else:\n",
    "        return 'Unrecognized format'\n",
    "    return converted.strftime(dformat)\n",
    "\n",
    "def covertDatePandas(df:pd.Series)->pd.Series:\n",
    "    return df.apply(convertDate)\n",
    "\n",
    "converter = pandas_udf(covertDatePandas,returnType=StringType())    \n",
    "\n",
    "def udf_date(dformat:str='%Y-%m-%d'):\n",
    "    return udf(lambda dt: converter(dt, dformat))"
   ]
  },
  {
   "cell_type": "code",
   "execution_count": null,
   "metadata": {},
   "outputs": [],
   "source": [
    "{\n",
    "    'ColName':'OrderDate',\n",
    "    'NewColumn':'modifiedDate',\n",
    "    ''\n",
    "}"
   ]
  },
  {
   "cell_type": "code",
   "execution_count": 116,
   "metadata": {},
   "outputs": [],
   "source": [
    "def convertDate(df:DataFrame,\n",
    "                cols = {'OrderDate':'modifiedDate'}\n",
    "                ,dformat:str='%Y-%m-%d',\n",
    "                vector:bool=True)->DataFrame:\n",
    "    \n",
    "    def _(dt:Any)->str:\n",
    "        if isinstance(dt,str):\n",
    "            converted = dateutil.parser.parse(dt)\n",
    "        elif isinstance(dt,datetime.datetime):\n",
    "            converted = dt\n",
    "        elif isinstance(dt,(int,float)):\n",
    "            converted = dateutil.parser.parse(str(int(dt)))\n",
    "        else:\n",
    "            return 'Unrecognized format'\n",
    "        return converted.strftime(dformat)\n",
    "    \n",
    "    def covertDatePandas(df:pd.Series)->pd.Series:\n",
    "        return df.apply(_)\n",
    "    \n",
    "    converterVector = pandas_udf(covertDatePandas,returnType=StringType())\n",
    "    converterScala  = udf(_,returnType=StringType()) \n",
    "    \n",
    "    reqUDF = lambda vector : converterVector if vector else converterScala\n",
    "    \n",
    "    return df.withColumn('vector',reqUDF(vector)(col('OrderDate')))\n",
    "    "
   ]
  },
  {
   "cell_type": "code",
   "execution_count": 115,
   "metadata": {},
   "outputs": [
    {
     "name": "stdout",
     "output_type": "stream",
     "text": [
      "2\n"
     ]
    }
   ],
   "source": [
    "vector = False\n",
    "\n",
    "def x():\n",
    "    print(1)\n",
    "\n",
    "def y():\n",
    "    print(2)\n",
    "    \n",
    "z = lambda vector : x if vector else y\n",
    "\n",
    "z(vector)()"
   ]
  },
  {
   "cell_type": "code",
   "execution_count": 103,
   "metadata": {},
   "outputs": [],
   "source": [
    "#data.show()"
   ]
  },
  {
   "cell_type": "code",
   "execution_count": 117,
   "metadata": {},
   "outputs": [
    {
     "name": "stdout",
     "output_type": "stream",
     "text": [
      "+-----------+--------------------+----------+---------+-------------+-------+----------+\n",
      "|    orderID|           OrderDate|OrderValue|OrderType|OrderCategory|   city|    vector|\n",
      "+-----------+--------------------+----------+---------+-------------+-------+----------+\n",
      "|ORDLBWA5119|2004-10-02 09:28:...|   8135.52|      COD|         Home| durham|2004-10-02|\n",
      "|ORDJQOW0469|2013-08-30 12:04:...|   6013.05|      COD|         Home|toronto|2013-08-30|\n",
      "|ORDADHV6229|2017-09-13 20:33:...|   5115.79|      COD|      Furnish|toronto|2017-09-13|\n",
      "|ORDOPWV1894|2004-03-03 15:36:...|   5361.52|      COD|  Electronics|toronto|2004-03-03|\n",
      "|ORDENUU3212|2004-05-26 21:57:...|   2505.97|      COD|      Furnish| durham|2004-05-26|\n",
      "|ORDKWLI8989|2013-05-30 07:26:...|   6577.39|      COD|         Home|halifax|2013-05-30|\n",
      "|ORDNTEZ1527|2013-02-18 01:17:...|    5928.3|      COD|      Furnish|halifax|2013-02-18|\n",
      "|ORDLNTY3345|2008-10-03 02:34:...|   6103.64|      COD|      Furnish| durham|2008-10-03|\n",
      "|ORDXYPI3010|2008-09-09 08:58:...|   5628.92|      COD|      Furnish|halifax|2008-09-09|\n",
      "|ORDSPVJ3801|2001-03-05 21:37:...|   4410.64|      COD|         Home|halifax|2001-03-05|\n",
      "|ORDZYPX5707|2002-08-27 09:01:...|    2024.7|      COD|  Electronics|halifax|2002-08-27|\n",
      "|ORDPSVH1562|2006-10-08 23:29:...|   9683.48|      COD|         Home|toronto|2006-10-08|\n",
      "|ORDDNHV8456|2015-12-30 03:30:...|   4724.65|      COD|         Home| durham|2015-12-30|\n",
      "|ORDQQFP4942|2000-03-09 18:39:...|   2060.94|      COD|         Home|halifax|2000-03-09|\n",
      "|ORDKZUD7275|2000-06-03 01:05:...|   5607.57|      COD|      Furnish|halifax|2000-06-03|\n",
      "|ORDEBLV9972|2015-09-25 07:44:...|   3131.81|      COD|         Home|toronto|2015-09-25|\n",
      "|ORDPLMB0588|2005-10-05 23:01:...|    5073.8|      COD|         Home| durham|2005-10-05|\n",
      "|ORDIGAC5444|2019-01-12 12:12:...|   4665.17|      COD|  Electronics|halifax|2019-01-12|\n",
      "|ORDUIJV8919|2010-04-22 02:57:...|    9942.8|      COD|  Electronics|halifax|2010-04-22|\n",
      "|ORDYFHV5031|2020-06-09 00:50:...|   2979.93|      COD|  Electronics| durham|2020-06-09|\n",
      "+-----------+--------------------+----------+---------+-------------+-------+----------+\n",
      "only showing top 20 rows\n",
      "\n"
     ]
    }
   ],
   "source": [
    "convertDate(data,vector=True).show()"
   ]
  },
  {
   "cell_type": "code",
   "execution_count": 77,
   "metadata": {},
   "outputs": [
    {
     "name": "stdout",
     "output_type": "stream",
     "text": [
      "+-----------+--------------------+----------+---------+-------------+-------+----------+\n",
      "|    orderID|           OrderDate|OrderValue|OrderType|OrderCategory|   city|      test|\n",
      "+-----------+--------------------+----------+---------+-------------+-------+----------+\n",
      "|ORDLBWA5119|2004-10-02 09:28:...|   8135.52|      COD|         Home| durham|2004-10-02|\n",
      "|ORDJQOW0469|2013-08-30 12:04:...|   6013.05|      COD|         Home|toronto|2013-08-30|\n",
      "|ORDADHV6229|2017-09-13 20:33:...|   5115.79|      COD|      Furnish|toronto|2017-09-13|\n",
      "|ORDOPWV1894|2004-03-03 15:36:...|   5361.52|      COD|  Electronics|toronto|2004-03-03|\n",
      "|ORDENUU3212|2004-05-26 21:57:...|   2505.97|      COD|      Furnish| durham|2004-05-26|\n",
      "|ORDKWLI8989|2013-05-30 07:26:...|   6577.39|      COD|         Home|halifax|2013-05-30|\n",
      "|ORDNTEZ1527|2013-02-18 01:17:...|    5928.3|      COD|      Furnish|halifax|2013-02-18|\n",
      "|ORDLNTY3345|2008-10-03 02:34:...|   6103.64|      COD|      Furnish| durham|2008-10-03|\n",
      "|ORDXYPI3010|2008-09-09 08:58:...|   5628.92|      COD|      Furnish|halifax|2008-09-09|\n",
      "|ORDSPVJ3801|2001-03-05 21:37:...|   4410.64|      COD|         Home|halifax|2001-03-05|\n",
      "|ORDZYPX5707|2002-08-27 09:01:...|    2024.7|      COD|  Electronics|halifax|2002-08-27|\n",
      "|ORDPSVH1562|2006-10-08 23:29:...|   9683.48|      COD|         Home|toronto|2006-10-08|\n",
      "|ORDDNHV8456|2015-12-30 03:30:...|   4724.65|      COD|         Home| durham|2015-12-30|\n",
      "|ORDQQFP4942|2000-03-09 18:39:...|   2060.94|      COD|         Home|halifax|2000-03-09|\n",
      "|ORDKZUD7275|2000-06-03 01:05:...|   5607.57|      COD|      Furnish|halifax|2000-06-03|\n",
      "|ORDEBLV9972|2015-09-25 07:44:...|   3131.81|      COD|         Home|toronto|2015-09-25|\n",
      "|ORDPLMB0588|2005-10-05 23:01:...|    5073.8|      COD|         Home| durham|2005-10-05|\n",
      "|ORDIGAC5444|2019-01-12 12:12:...|   4665.17|      COD|  Electronics|halifax|2019-01-12|\n",
      "|ORDUIJV8919|2010-04-22 02:57:...|    9942.8|      COD|  Electronics|halifax|2010-04-22|\n",
      "|ORDYFHV5031|2020-06-09 00:50:...|   2979.93|      COD|  Electronics| durham|2020-06-09|\n",
      "+-----------+--------------------+----------+---------+-------------+-------+----------+\n",
      "only showing top 20 rows\n",
      "\n"
     ]
    }
   ],
   "source": [
    "from pyspark.sql import functions as F\n",
    "data.withColumn('test',converter(F.col('OrderDate'))).show()"
   ]
  },
  {
   "cell_type": "code",
   "execution_count": 177,
   "metadata": {},
   "outputs": [],
   "source": [
    "class Orca(object):\n",
    "    def __init__(self,df):\n",
    "        self.df = df\n",
    "    def toSpark(self):\n",
    "        return self.df\n",
    "    def convertDate(self,\n",
    "                    column:str,\n",
    "                    newName:str=None\n",
    "                ,dformat:str='%Y-%m-%d',\n",
    "                addDays=0,\n",
    "                getMonthFirst:bool=False,\n",
    "                getMonthLast:bool=False,\n",
    "                replaceBy:int=None,\n",
    "                vector:bool=True)->DataFrame:\n",
    "    \n",
    "        def _(dt:Any)->str:\n",
    "            if isinstance(dt,str):\n",
    "                converted = dateutil.parser.parse(dt)\n",
    "            elif isinstance(dt,datetime.datetime):\n",
    "                converted = dt\n",
    "            elif isinstance(dt,(int,float)):\n",
    "                converted = dateutil.parser.parse(str(int(dt)))\n",
    "            else:\n",
    "                return 'Unrecognized format'\n",
    "            if getMonthFirst:\n",
    "                converted = converted.replace(day=1)\n",
    "            if getMonthLast:\n",
    "                next_month = converted.replace(day=28) + datetime.timedelta(days=4)\n",
    "                converted  = next_month - datetime.timedelta(days=next_month.day)\n",
    "            if replaceBy:\n",
    "                converted = converted.replace(day=replaceBy)\n",
    "            converted = converted+datetime.timedelta(days=addDays)\n",
    "            return converted.strftime(dformat)\n",
    "\n",
    "        def covertDatePandas(df:pd.Series)->pd.Series:\n",
    "            return df.apply(_)\n",
    "\n",
    "        converterVector = pandas_udf(covertDatePandas,returnType=StringType())\n",
    "        converterScala  = udf(_,returnType=StringType()) \n",
    "\n",
    "        reqUDF = converterVector if vector else converterScala\n",
    "        name   = column if newName is None else newName\n",
    "        return Orca(self.df.withColumn(name,reqUDF(col(column))))\n",
    "    "
   ]
  },
  {
   "cell_type": "code",
   "execution_count": 173,
   "metadata": {},
   "outputs": [
    {
     "name": "stdout",
     "output_type": "stream",
     "text": [
      "root\n",
      " |-- orderID: string (nullable = true)\n",
      " |-- OrderDate: timestamp (nullable = true)\n",
      " |-- OrderValue: double (nullable = true)\n",
      " |-- OrderType: string (nullable = true)\n",
      " |-- OrderCategory: string (nullable = true)\n",
      " |-- city: string (nullable = true)\n",
      "\n"
     ]
    }
   ],
   "source": [
    "data.printSchema()"
   ]
  },
  {
   "cell_type": "code",
   "execution_count": 178,
   "metadata": {},
   "outputs": [],
   "source": [
    "od = Orca(data.select('OrderDate'))"
   ]
  },
  {
   "cell_type": "code",
   "execution_count": null,
   "metadata": {},
   "outputs": [],
   "source": []
  },
  {
   "cell_type": "code",
   "execution_count": 183,
   "metadata": {},
   "outputs": [],
   "source": [
    "test = od.convertDate('OrderDate','simpleDate',dformat='%Y/%m/%d').toSpark()"
   ]
  },
  {
   "cell_type": "code",
   "execution_count": 186,
   "metadata": {},
   "outputs": [],
   "source": [
    "od = Orca(test.select('simpleDate').alias('OrderDate'))"
   ]
  },
  {
   "cell_type": "code",
   "execution_count": 190,
   "metadata": {},
   "outputs": [
    {
     "name": "stdout",
     "output_type": "stream",
     "text": [
      "+----------+\n",
      "|simpleDate|\n",
      "+----------+\n",
      "|2004/10/02|\n",
      "|2013/08/30|\n",
      "|2017/09/13|\n",
      "|2004/03/03|\n",
      "|2004/05/26|\n",
      "|2013/05/30|\n",
      "|2013/02/18|\n",
      "|2008/10/03|\n",
      "|2008/09/09|\n",
      "|2001/03/05|\n",
      "|2002/08/27|\n",
      "|2006/10/08|\n",
      "|2015/12/30|\n",
      "|2000/03/09|\n",
      "|2000/06/03|\n",
      "|2015/09/25|\n",
      "|2005/10/05|\n",
      "|2019/01/12|\n",
      "|2010/04/22|\n",
      "|2020/06/09|\n",
      "+----------+\n",
      "only showing top 20 rows\n",
      "\n"
     ]
    }
   ],
   "source": [
    "od.toSpark().show()"
   ]
  },
  {
   "cell_type": "code",
   "execution_count": 194,
   "metadata": {},
   "outputs": [
    {
     "name": "stdout",
     "output_type": "stream",
     "text": [
      "+----------+----------+----------+----------+----------+----------+\n",
      "|simpleDate|         y|   addDays|monthFirst| monthLast| replaceBy|\n",
      "+----------+----------+----------+----------+----------+----------+\n",
      "|2004/10/02|2004-10-02|2004-10-03|  20041001|2004-10-31|2004/10/15|\n",
      "|2013/08/30|2013-08-30|2013-08-31|  20130801|2013-08-31|2013/08/15|\n",
      "|2017/09/13|2017-09-13|2017-09-14|  20170901|2017-09-30|2017/09/15|\n",
      "|2004/03/03|2004-03-03|2004-03-04|  20040301|2004-03-31|2004/03/15|\n",
      "|2004/05/26|2004-05-26|2004-05-27|  20040501|2004-05-31|2004/05/15|\n",
      "|2013/05/30|2013-05-30|2013-05-31|  20130501|2013-05-31|2013/05/15|\n",
      "|2013/02/18|2013-02-18|2013-02-19|  20130201|2013-02-28|2013/02/15|\n",
      "|2008/10/03|2008-10-03|2008-10-04|  20081001|2008-10-31|2008/10/15|\n",
      "|2008/09/09|2008-09-09|2008-09-10|  20080901|2008-09-30|2008/09/15|\n",
      "|2001/03/05|2001-03-05|2001-03-06|  20010301|2001-03-31|2001/03/15|\n",
      "|2002/08/27|2002-08-27|2002-08-28|  20020801|2002-08-31|2002/08/15|\n",
      "|2006/10/08|2006-10-08|2006-10-09|  20061001|2006-10-31|2006/10/15|\n",
      "|2015/12/30|2015-12-30|2015-12-31|  20151201|2015-12-31|2015/12/15|\n",
      "|2000/03/09|2000-03-09|2000-03-10|  20000301|2000-03-31|2000/03/15|\n",
      "|2000/06/03|2000-06-03|2000-06-04|  20000601|2000-06-30|2000/06/15|\n",
      "|2015/09/25|2015-09-25|2015-09-26|  20150901|2015-09-30|2015/09/15|\n",
      "|2005/10/05|2005-10-05|2005-10-06|  20051001|2005-10-31|2005/10/15|\n",
      "|2019/01/12|2019-01-12|2019-01-13|  20190101|2019-01-31|2019/01/15|\n",
      "|2010/04/22|2010-04-22|2010-04-23|  20100401|2010-04-30|2010/04/15|\n",
      "|2020/06/09|2020-06-09|2020-06-10|  20200601|2020-06-30|2020/06/15|\n",
      "+----------+----------+----------+----------+----------+----------+\n",
      "only showing top 20 rows\n",
      "\n"
     ]
    }
   ],
   "source": [
    "od.convertDate('simpleDate','y')\\\n",
    "  .convertDate('simpleDate','addDays',addDays=1)\\\n",
    "  .convertDate('simpleDate','monthFirst',dformat='%Y%m%d',getMonthFirst=True)\\\n",
    "  .convertDate('simpleDate','monthLast',getMonthLast=True)\\\n",
    "  .convertDate('simpleDate','replaceBy',replaceBy=15,dformat='%Y/%m/%d').toSpark().show()"
   ]
  },
  {
   "cell_type": "code",
   "execution_count": 7,
   "metadata": {},
   "outputs": [],
   "source": [
    "data = spark.read.parquet(r'C:\\work\\python-packages\\mimic\\mimic\\examples\\orders.parquet')"
   ]
  },
  {
   "cell_type": "code",
   "execution_count": 8,
   "metadata": {},
   "outputs": [],
   "source": [
    "pdf = pd.read_parquet(r'C:\\work\\python-packages\\mimic\\mimic\\examples\\orders.parquet')"
   ]
  },
  {
   "cell_type": "code",
   "execution_count": 50,
   "metadata": {},
   "outputs": [],
   "source": [
    "import dateutil.parser\n",
    "import datetime\n",
    "from typing import Iterator\n",
    "def convertDate(dt:pd.Series)->pd.Series:\n",
    "    def _(dt):\n",
    "        dformat:str='%Y-%m-%d'\n",
    "        converted = dateutil.parser.parse(str(dt)) \n",
    "        return str(converted.strftime(dformat))\n",
    "    return dt.apply(_)\n",
    "        "
   ]
  },
  {
   "cell_type": "code",
   "execution_count": null,
   "metadata": {},
   "outputs": [],
   "source": []
  },
  {
   "cell_type": "code",
   "execution_count": 51,
   "metadata": {},
   "outputs": [],
   "source": [
    "ctdt = pandas_udf(convertDate,returnType=StringType())"
   ]
  },
  {
   "cell_type": "code",
   "execution_count": 54,
   "metadata": {},
   "outputs": [
    {
     "name": "stdout",
     "output_type": "stream",
     "text": [
      "117 ms ± 17.9 ms per loop (mean ± std. dev. of 7 runs, 1 loop each)\n"
     ]
    }
   ],
   "source": [
    "%timeit data.withColumn('test',ctdt('OrderDate')).select('test').count()"
   ]
  },
  {
   "cell_type": "code",
   "execution_count": 55,
   "metadata": {},
   "outputs": [
    {
     "ename": "AttributeError",
     "evalue": "'Timestamp' object has no attribute 'apply'",
     "output_type": "error",
     "traceback": [
      "\u001b[1;31m---------------------------------------------------------------------------\u001b[0m",
      "\u001b[1;31mAttributeError\u001b[0m                            Traceback (most recent call last)",
      "\u001b[1;32m<ipython-input-55-669ff70ab06c>\u001b[0m in \u001b[0;36m<module>\u001b[1;34m\u001b[0m\n\u001b[1;32m----> 1\u001b[1;33m \u001b[0mget_ipython\u001b[0m\u001b[1;33m(\u001b[0m\u001b[1;33m)\u001b[0m\u001b[1;33m.\u001b[0m\u001b[0mrun_line_magic\u001b[0m\u001b[1;33m(\u001b[0m\u001b[1;34m'timeit'\u001b[0m\u001b[1;33m,\u001b[0m \u001b[1;34m\"pdf['OrderDate'].apply(convertDate)\"\u001b[0m\u001b[1;33m)\u001b[0m\u001b[1;33m\u001b[0m\u001b[1;33m\u001b[0m\u001b[0m\n\u001b[0m",
      "\u001b[1;32mC:\\programming\\miniconda\\lib\\site-packages\\IPython\\core\\interactiveshell.py\u001b[0m in \u001b[0;36mrun_line_magic\u001b[1;34m(self, magic_name, line, _stack_depth)\u001b[0m\n\u001b[0;32m   2324\u001b[0m                 \u001b[0mkwargs\u001b[0m\u001b[1;33m[\u001b[0m\u001b[1;34m'local_ns'\u001b[0m\u001b[1;33m]\u001b[0m \u001b[1;33m=\u001b[0m \u001b[0mself\u001b[0m\u001b[1;33m.\u001b[0m\u001b[0mget_local_scope\u001b[0m\u001b[1;33m(\u001b[0m\u001b[0mstack_depth\u001b[0m\u001b[1;33m)\u001b[0m\u001b[1;33m\u001b[0m\u001b[1;33m\u001b[0m\u001b[0m\n\u001b[0;32m   2325\u001b[0m             \u001b[1;32mwith\u001b[0m \u001b[0mself\u001b[0m\u001b[1;33m.\u001b[0m\u001b[0mbuiltin_trap\u001b[0m\u001b[1;33m:\u001b[0m\u001b[1;33m\u001b[0m\u001b[1;33m\u001b[0m\u001b[0m\n\u001b[1;32m-> 2326\u001b[1;33m                 \u001b[0mresult\u001b[0m \u001b[1;33m=\u001b[0m \u001b[0mfn\u001b[0m\u001b[1;33m(\u001b[0m\u001b[1;33m*\u001b[0m\u001b[0margs\u001b[0m\u001b[1;33m,\u001b[0m \u001b[1;33m**\u001b[0m\u001b[0mkwargs\u001b[0m\u001b[1;33m)\u001b[0m\u001b[1;33m\u001b[0m\u001b[1;33m\u001b[0m\u001b[0m\n\u001b[0m\u001b[0;32m   2327\u001b[0m             \u001b[1;32mreturn\u001b[0m \u001b[0mresult\u001b[0m\u001b[1;33m\u001b[0m\u001b[1;33m\u001b[0m\u001b[0m\n\u001b[0;32m   2328\u001b[0m \u001b[1;33m\u001b[0m\u001b[0m\n",
      "\u001b[1;32m<decorator-gen-61>\u001b[0m in \u001b[0;36mtimeit\u001b[1;34m(self, line, cell, local_ns)\u001b[0m\n",
      "\u001b[1;32mC:\\programming\\miniconda\\lib\\site-packages\\IPython\\core\\magic.py\u001b[0m in \u001b[0;36m<lambda>\u001b[1;34m(f, *a, **k)\u001b[0m\n\u001b[0;32m    185\u001b[0m     \u001b[1;31m# but it's overkill for just that one bit of state.\u001b[0m\u001b[1;33m\u001b[0m\u001b[1;33m\u001b[0m\u001b[1;33m\u001b[0m\u001b[0m\n\u001b[0;32m    186\u001b[0m     \u001b[1;32mdef\u001b[0m \u001b[0mmagic_deco\u001b[0m\u001b[1;33m(\u001b[0m\u001b[0marg\u001b[0m\u001b[1;33m)\u001b[0m\u001b[1;33m:\u001b[0m\u001b[1;33m\u001b[0m\u001b[1;33m\u001b[0m\u001b[0m\n\u001b[1;32m--> 187\u001b[1;33m         \u001b[0mcall\u001b[0m \u001b[1;33m=\u001b[0m \u001b[1;32mlambda\u001b[0m \u001b[0mf\u001b[0m\u001b[1;33m,\u001b[0m \u001b[1;33m*\u001b[0m\u001b[0ma\u001b[0m\u001b[1;33m,\u001b[0m \u001b[1;33m**\u001b[0m\u001b[0mk\u001b[0m\u001b[1;33m:\u001b[0m \u001b[0mf\u001b[0m\u001b[1;33m(\u001b[0m\u001b[1;33m*\u001b[0m\u001b[0ma\u001b[0m\u001b[1;33m,\u001b[0m \u001b[1;33m**\u001b[0m\u001b[0mk\u001b[0m\u001b[1;33m)\u001b[0m\u001b[1;33m\u001b[0m\u001b[1;33m\u001b[0m\u001b[0m\n\u001b[0m\u001b[0;32m    188\u001b[0m \u001b[1;33m\u001b[0m\u001b[0m\n\u001b[0;32m    189\u001b[0m         \u001b[1;32mif\u001b[0m \u001b[0mcallable\u001b[0m\u001b[1;33m(\u001b[0m\u001b[0marg\u001b[0m\u001b[1;33m)\u001b[0m\u001b[1;33m:\u001b[0m\u001b[1;33m\u001b[0m\u001b[1;33m\u001b[0m\u001b[0m\n",
      "\u001b[1;32mC:\\programming\\miniconda\\lib\\site-packages\\IPython\\core\\magics\\execution.py\u001b[0m in \u001b[0;36mtimeit\u001b[1;34m(self, line, cell, local_ns)\u001b[0m\n\u001b[0;32m   1167\u001b[0m             \u001b[1;32mfor\u001b[0m \u001b[0mindex\u001b[0m \u001b[1;32min\u001b[0m \u001b[0mrange\u001b[0m\u001b[1;33m(\u001b[0m\u001b[1;36m0\u001b[0m\u001b[1;33m,\u001b[0m \u001b[1;36m10\u001b[0m\u001b[1;33m)\u001b[0m\u001b[1;33m:\u001b[0m\u001b[1;33m\u001b[0m\u001b[1;33m\u001b[0m\u001b[0m\n\u001b[0;32m   1168\u001b[0m                 \u001b[0mnumber\u001b[0m \u001b[1;33m=\u001b[0m \u001b[1;36m10\u001b[0m \u001b[1;33m**\u001b[0m \u001b[0mindex\u001b[0m\u001b[1;33m\u001b[0m\u001b[1;33m\u001b[0m\u001b[0m\n\u001b[1;32m-> 1169\u001b[1;33m                 \u001b[0mtime_number\u001b[0m \u001b[1;33m=\u001b[0m \u001b[0mtimer\u001b[0m\u001b[1;33m.\u001b[0m\u001b[0mtimeit\u001b[0m\u001b[1;33m(\u001b[0m\u001b[0mnumber\u001b[0m\u001b[1;33m)\u001b[0m\u001b[1;33m\u001b[0m\u001b[1;33m\u001b[0m\u001b[0m\n\u001b[0m\u001b[0;32m   1170\u001b[0m                 \u001b[1;32mif\u001b[0m \u001b[0mtime_number\u001b[0m \u001b[1;33m>=\u001b[0m \u001b[1;36m0.2\u001b[0m\u001b[1;33m:\u001b[0m\u001b[1;33m\u001b[0m\u001b[1;33m\u001b[0m\u001b[0m\n\u001b[0;32m   1171\u001b[0m                     \u001b[1;32mbreak\u001b[0m\u001b[1;33m\u001b[0m\u001b[1;33m\u001b[0m\u001b[0m\n",
      "\u001b[1;32mC:\\programming\\miniconda\\lib\\site-packages\\IPython\\core\\magics\\execution.py\u001b[0m in \u001b[0;36mtimeit\u001b[1;34m(self, number)\u001b[0m\n\u001b[0;32m    167\u001b[0m         \u001b[0mgc\u001b[0m\u001b[1;33m.\u001b[0m\u001b[0mdisable\u001b[0m\u001b[1;33m(\u001b[0m\u001b[1;33m)\u001b[0m\u001b[1;33m\u001b[0m\u001b[1;33m\u001b[0m\u001b[0m\n\u001b[0;32m    168\u001b[0m         \u001b[1;32mtry\u001b[0m\u001b[1;33m:\u001b[0m\u001b[1;33m\u001b[0m\u001b[1;33m\u001b[0m\u001b[0m\n\u001b[1;32m--> 169\u001b[1;33m             \u001b[0mtiming\u001b[0m \u001b[1;33m=\u001b[0m \u001b[0mself\u001b[0m\u001b[1;33m.\u001b[0m\u001b[0minner\u001b[0m\u001b[1;33m(\u001b[0m\u001b[0mit\u001b[0m\u001b[1;33m,\u001b[0m \u001b[0mself\u001b[0m\u001b[1;33m.\u001b[0m\u001b[0mtimer\u001b[0m\u001b[1;33m)\u001b[0m\u001b[1;33m\u001b[0m\u001b[1;33m\u001b[0m\u001b[0m\n\u001b[0m\u001b[0;32m    170\u001b[0m         \u001b[1;32mfinally\u001b[0m\u001b[1;33m:\u001b[0m\u001b[1;33m\u001b[0m\u001b[1;33m\u001b[0m\u001b[0m\n\u001b[0;32m    171\u001b[0m             \u001b[1;32mif\u001b[0m \u001b[0mgcold\u001b[0m\u001b[1;33m:\u001b[0m\u001b[1;33m\u001b[0m\u001b[1;33m\u001b[0m\u001b[0m\n",
      "\u001b[1;32m<magic-timeit>\u001b[0m in \u001b[0;36minner\u001b[1;34m(_it, _timer)\u001b[0m\n",
      "\u001b[1;32mC:\\programming\\miniconda\\lib\\site-packages\\pandas\\core\\series.py\u001b[0m in \u001b[0;36mapply\u001b[1;34m(self, func, convert_dtype, args, **kwds)\u001b[0m\n\u001b[0;32m   4198\u001b[0m             \u001b[1;32melse\u001b[0m\u001b[1;33m:\u001b[0m\u001b[1;33m\u001b[0m\u001b[1;33m\u001b[0m\u001b[0m\n\u001b[0;32m   4199\u001b[0m                 \u001b[0mvalues\u001b[0m \u001b[1;33m=\u001b[0m \u001b[0mself\u001b[0m\u001b[1;33m.\u001b[0m\u001b[0mastype\u001b[0m\u001b[1;33m(\u001b[0m\u001b[0mobject\u001b[0m\u001b[1;33m)\u001b[0m\u001b[1;33m.\u001b[0m\u001b[0m_values\u001b[0m\u001b[1;33m\u001b[0m\u001b[1;33m\u001b[0m\u001b[0m\n\u001b[1;32m-> 4200\u001b[1;33m                 \u001b[0mmapped\u001b[0m \u001b[1;33m=\u001b[0m \u001b[0mlib\u001b[0m\u001b[1;33m.\u001b[0m\u001b[0mmap_infer\u001b[0m\u001b[1;33m(\u001b[0m\u001b[0mvalues\u001b[0m\u001b[1;33m,\u001b[0m \u001b[0mf\u001b[0m\u001b[1;33m,\u001b[0m \u001b[0mconvert\u001b[0m\u001b[1;33m=\u001b[0m\u001b[0mconvert_dtype\u001b[0m\u001b[1;33m)\u001b[0m\u001b[1;33m\u001b[0m\u001b[1;33m\u001b[0m\u001b[0m\n\u001b[0m\u001b[0;32m   4201\u001b[0m \u001b[1;33m\u001b[0m\u001b[0m\n\u001b[0;32m   4202\u001b[0m         \u001b[1;32mif\u001b[0m \u001b[0mlen\u001b[0m\u001b[1;33m(\u001b[0m\u001b[0mmapped\u001b[0m\u001b[1;33m)\u001b[0m \u001b[1;32mand\u001b[0m \u001b[0misinstance\u001b[0m\u001b[1;33m(\u001b[0m\u001b[0mmapped\u001b[0m\u001b[1;33m[\u001b[0m\u001b[1;36m0\u001b[0m\u001b[1;33m]\u001b[0m\u001b[1;33m,\u001b[0m \u001b[0mSeries\u001b[0m\u001b[1;33m)\u001b[0m\u001b[1;33m:\u001b[0m\u001b[1;33m\u001b[0m\u001b[1;33m\u001b[0m\u001b[0m\n",
      "\u001b[1;32mpandas\\_libs\\lib.pyx\u001b[0m in \u001b[0;36mpandas._libs.lib.map_infer\u001b[1;34m()\u001b[0m\n",
      "\u001b[1;32m<ipython-input-50-5629a886789a>\u001b[0m in \u001b[0;36mconvertDate\u001b[1;34m(dt)\u001b[0m\n\u001b[0;32m      7\u001b[0m         \u001b[0mconverted\u001b[0m \u001b[1;33m=\u001b[0m \u001b[0mdateutil\u001b[0m\u001b[1;33m.\u001b[0m\u001b[0mparser\u001b[0m\u001b[1;33m.\u001b[0m\u001b[0mparse\u001b[0m\u001b[1;33m(\u001b[0m\u001b[0mstr\u001b[0m\u001b[1;33m(\u001b[0m\u001b[0mdt\u001b[0m\u001b[1;33m)\u001b[0m\u001b[1;33m)\u001b[0m\u001b[1;33m\u001b[0m\u001b[1;33m\u001b[0m\u001b[0m\n\u001b[0;32m      8\u001b[0m         \u001b[1;32mreturn\u001b[0m \u001b[0mstr\u001b[0m\u001b[1;33m(\u001b[0m\u001b[0mconverted\u001b[0m\u001b[1;33m.\u001b[0m\u001b[0mstrftime\u001b[0m\u001b[1;33m(\u001b[0m\u001b[0mdformat\u001b[0m\u001b[1;33m)\u001b[0m\u001b[1;33m)\u001b[0m\u001b[1;33m\u001b[0m\u001b[1;33m\u001b[0m\u001b[0m\n\u001b[1;32m----> 9\u001b[1;33m     \u001b[1;32mreturn\u001b[0m \u001b[0mdt\u001b[0m\u001b[1;33m.\u001b[0m\u001b[0mapply\u001b[0m\u001b[1;33m(\u001b[0m\u001b[0m_\u001b[0m\u001b[1;33m)\u001b[0m\u001b[1;33m\u001b[0m\u001b[1;33m\u001b[0m\u001b[0m\n\u001b[0m\u001b[0;32m     10\u001b[0m \u001b[1;33m\u001b[0m\u001b[0m\n",
      "\u001b[1;31mAttributeError\u001b[0m: 'Timestamp' object has no attribute 'apply'"
     ]
    }
   ],
   "source": [
    "pdf['OrderDate'].apply(convertDate)"
   ]
  },
  {
   "cell_type": "code",
   "execution_count": 167,
   "metadata": {},
   "outputs": [
    {
     "name": "stdout",
     "output_type": "stream",
     "text": [
      "2020-01-29 00:00:00\n"
     ]
    }
   ],
   "source": [
    "todayDate = datetime.datetime(year=2020,month=1,day=26)\n",
    "\n",
    "\n",
    "print(todayDate.replace(day=29))"
   ]
  },
  {
   "cell_type": "code",
   "execution_count": 197,
   "metadata": {},
   "outputs": [
    {
     "name": "stdout",
     "output_type": "stream",
     "text": [
      "+----------+----------+----------+----------+----------+----------+\n",
      "|simpleDate|         y|   addDays|monthFirst| monthLast| replaceBy|\n",
      "+----------+----------+----------+----------+----------+----------+\n",
      "|2004/10/02|2004-10-02|2004-10-03|  20041001|2004-10-31|2004/10/15|\n",
      "|2013/08/30|2013-08-30|2013-08-31|  20130801|2013-08-31|2013/08/15|\n",
      "|2017/09/13|2017-09-13|2017-09-14|  20170901|2017-09-30|2017/09/15|\n",
      "|2004/03/03|2004-03-03|2004-03-04|  20040301|2004-03-31|2004/03/15|\n",
      "|2004/05/26|2004-05-26|2004-05-27|  20040501|2004-05-31|2004/05/15|\n",
      "|2013/05/30|2013-05-30|2013-05-31|  20130501|2013-05-31|2013/05/15|\n",
      "|2013/02/18|2013-02-18|2013-02-19|  20130201|2013-02-28|2013/02/15|\n",
      "|2008/10/03|2008-10-03|2008-10-04|  20081001|2008-10-31|2008/10/15|\n",
      "|2008/09/09|2008-09-09|2008-09-10|  20080901|2008-09-30|2008/09/15|\n",
      "|2001/03/05|2001-03-05|2001-03-06|  20010301|2001-03-31|2001/03/15|\n",
      "|2002/08/27|2002-08-27|2002-08-28|  20020801|2002-08-31|2002/08/15|\n",
      "|2006/10/08|2006-10-08|2006-10-09|  20061001|2006-10-31|2006/10/15|\n",
      "|2015/12/30|2015-12-30|2015-12-31|  20151201|2015-12-31|2015/12/15|\n",
      "|2000/03/09|2000-03-09|2000-03-10|  20000301|2000-03-31|2000/03/15|\n",
      "|2000/06/03|2000-06-03|2000-06-04|  20000601|2000-06-30|2000/06/15|\n",
      "|2015/09/25|2015-09-25|2015-09-26|  20150901|2015-09-30|2015/09/15|\n",
      "|2005/10/05|2005-10-05|2005-10-06|  20051001|2005-10-31|2005/10/15|\n",
      "|2019/01/12|2019-01-12|2019-01-13|  20190101|2019-01-31|2019/01/15|\n",
      "|2010/04/22|2010-04-22|2010-04-23|  20100401|2010-04-30|2010/04/15|\n",
      "|2020/06/09|2020-06-09|2020-06-10|  20200601|2020-06-30|2020/06/15|\n",
      "+----------+----------+----------+----------+----------+----------+\n",
      "only showing top 20 rows\n",
      "\n",
      "+----------+----------+----------+----------+----------+----------+\n",
      "|simpleDate|         y|   addDays|monthFirst| monthLast| replaceBy|\n",
      "+----------+----------+----------+----------+----------+----------+\n",
      "|2004/10/02|2004-10-02|2004-10-03|  20041001|2004-10-31|2004/10/15|\n",
      "|2013/08/30|2013-08-30|2013-08-31|  20130801|2013-08-31|2013/08/15|\n",
      "|2017/09/13|2017-09-13|2017-09-14|  20170901|2017-09-30|2017/09/15|\n",
      "|2004/03/03|2004-03-03|2004-03-04|  20040301|2004-03-31|2004/03/15|\n",
      "|2004/05/26|2004-05-26|2004-05-27|  20040501|2004-05-31|2004/05/15|\n",
      "|2013/05/30|2013-05-30|2013-05-31|  20130501|2013-05-31|2013/05/15|\n",
      "|2013/02/18|2013-02-18|2013-02-19|  20130201|2013-02-28|2013/02/15|\n",
      "|2008/10/03|2008-10-03|2008-10-04|  20081001|2008-10-31|2008/10/15|\n",
      "|2008/09/09|2008-09-09|2008-09-10|  20080901|2008-09-30|2008/09/15|\n",
      "|2001/03/05|2001-03-05|2001-03-06|  20010301|2001-03-31|2001/03/15|\n",
      "|2002/08/27|2002-08-27|2002-08-28|  20020801|2002-08-31|2002/08/15|\n",
      "|2006/10/08|2006-10-08|2006-10-09|  20061001|2006-10-31|2006/10/15|\n",
      "|2015/12/30|2015-12-30|2015-12-31|  20151201|2015-12-31|2015/12/15|\n",
      "|2000/03/09|2000-03-09|2000-03-10|  20000301|2000-03-31|2000/03/15|\n",
      "|2000/06/03|2000-06-03|2000-06-04|  20000601|2000-06-30|2000/06/15|\n",
      "|2015/09/25|2015-09-25|2015-09-26|  20150901|2015-09-30|2015/09/15|\n",
      "|2005/10/05|2005-10-05|2005-10-06|  20051001|2005-10-31|2005/10/15|\n",
      "|2019/01/12|2019-01-12|2019-01-13|  20190101|2019-01-31|2019/01/15|\n",
      "|2010/04/22|2010-04-22|2010-04-23|  20100401|2010-04-30|2010/04/15|\n",
      "|2020/06/09|2020-06-09|2020-06-10|  20200601|2020-06-30|2020/06/15|\n",
      "+----------+----------+----------+----------+----------+----------+\n",
      "only showing top 20 rows\n",
      "\n",
      "+----------+----------+----------+----------+----------+----------+\n",
      "|simpleDate|         y|   addDays|monthFirst| monthLast| replaceBy|\n",
      "+----------+----------+----------+----------+----------+----------+\n",
      "|2004/10/02|2004-10-02|2004-10-03|  20041001|2004-10-31|2004/10/15|\n",
      "|2013/08/30|2013-08-30|2013-08-31|  20130801|2013-08-31|2013/08/15|\n",
      "|2017/09/13|2017-09-13|2017-09-14|  20170901|2017-09-30|2017/09/15|\n",
      "|2004/03/03|2004-03-03|2004-03-04|  20040301|2004-03-31|2004/03/15|\n",
      "|2004/05/26|2004-05-26|2004-05-27|  20040501|2004-05-31|2004/05/15|\n",
      "|2013/05/30|2013-05-30|2013-05-31|  20130501|2013-05-31|2013/05/15|\n",
      "|2013/02/18|2013-02-18|2013-02-19|  20130201|2013-02-28|2013/02/15|\n",
      "|2008/10/03|2008-10-03|2008-10-04|  20081001|2008-10-31|2008/10/15|\n",
      "|2008/09/09|2008-09-09|2008-09-10|  20080901|2008-09-30|2008/09/15|\n",
      "|2001/03/05|2001-03-05|2001-03-06|  20010301|2001-03-31|2001/03/15|\n",
      "|2002/08/27|2002-08-27|2002-08-28|  20020801|2002-08-31|2002/08/15|\n",
      "|2006/10/08|2006-10-08|2006-10-09|  20061001|2006-10-31|2006/10/15|\n",
      "|2015/12/30|2015-12-30|2015-12-31|  20151201|2015-12-31|2015/12/15|\n",
      "|2000/03/09|2000-03-09|2000-03-10|  20000301|2000-03-31|2000/03/15|\n",
      "|2000/06/03|2000-06-03|2000-06-04|  20000601|2000-06-30|2000/06/15|\n",
      "|2015/09/25|2015-09-25|2015-09-26|  20150901|2015-09-30|2015/09/15|\n",
      "|2005/10/05|2005-10-05|2005-10-06|  20051001|2005-10-31|2005/10/15|\n",
      "|2019/01/12|2019-01-12|2019-01-13|  20190101|2019-01-31|2019/01/15|\n",
      "|2010/04/22|2010-04-22|2010-04-23|  20100401|2010-04-30|2010/04/15|\n",
      "|2020/06/09|2020-06-09|2020-06-10|  20200601|2020-06-30|2020/06/15|\n",
      "+----------+----------+----------+----------+----------+----------+\n",
      "only showing top 20 rows\n",
      "\n",
      "+----------+----------+----------+----------+----------+----------+\n",
      "|simpleDate|         y|   addDays|monthFirst| monthLast| replaceBy|\n",
      "+----------+----------+----------+----------+----------+----------+\n",
      "|2004/10/02|2004-10-02|2004-10-03|  20041001|2004-10-31|2004/10/15|\n",
      "|2013/08/30|2013-08-30|2013-08-31|  20130801|2013-08-31|2013/08/15|\n",
      "|2017/09/13|2017-09-13|2017-09-14|  20170901|2017-09-30|2017/09/15|\n",
      "|2004/03/03|2004-03-03|2004-03-04|  20040301|2004-03-31|2004/03/15|\n",
      "|2004/05/26|2004-05-26|2004-05-27|  20040501|2004-05-31|2004/05/15|\n",
      "|2013/05/30|2013-05-30|2013-05-31|  20130501|2013-05-31|2013/05/15|\n",
      "|2013/02/18|2013-02-18|2013-02-19|  20130201|2013-02-28|2013/02/15|\n",
      "|2008/10/03|2008-10-03|2008-10-04|  20081001|2008-10-31|2008/10/15|\n",
      "|2008/09/09|2008-09-09|2008-09-10|  20080901|2008-09-30|2008/09/15|\n",
      "|2001/03/05|2001-03-05|2001-03-06|  20010301|2001-03-31|2001/03/15|\n",
      "|2002/08/27|2002-08-27|2002-08-28|  20020801|2002-08-31|2002/08/15|\n",
      "|2006/10/08|2006-10-08|2006-10-09|  20061001|2006-10-31|2006/10/15|\n",
      "|2015/12/30|2015-12-30|2015-12-31|  20151201|2015-12-31|2015/12/15|\n",
      "|2000/03/09|2000-03-09|2000-03-10|  20000301|2000-03-31|2000/03/15|\n",
      "|2000/06/03|2000-06-03|2000-06-04|  20000601|2000-06-30|2000/06/15|\n",
      "|2015/09/25|2015-09-25|2015-09-26|  20150901|2015-09-30|2015/09/15|\n",
      "|2005/10/05|2005-10-05|2005-10-06|  20051001|2005-10-31|2005/10/15|\n",
      "|2019/01/12|2019-01-12|2019-01-13|  20190101|2019-01-31|2019/01/15|\n",
      "|2010/04/22|2010-04-22|2010-04-23|  20100401|2010-04-30|2010/04/15|\n",
      "|2020/06/09|2020-06-09|2020-06-10|  20200601|2020-06-30|2020/06/15|\n",
      "+----------+----------+----------+----------+----------+----------+\n",
      "only showing top 20 rows\n",
      "\n",
      "+----------+----------+----------+----------+----------+----------+\n",
      "|simpleDate|         y|   addDays|monthFirst| monthLast| replaceBy|\n",
      "+----------+----------+----------+----------+----------+----------+\n",
      "|2004/10/02|2004-10-02|2004-10-03|  20041001|2004-10-31|2004/10/15|\n",
      "|2013/08/30|2013-08-30|2013-08-31|  20130801|2013-08-31|2013/08/15|\n",
      "|2017/09/13|2017-09-13|2017-09-14|  20170901|2017-09-30|2017/09/15|\n",
      "|2004/03/03|2004-03-03|2004-03-04|  20040301|2004-03-31|2004/03/15|\n",
      "|2004/05/26|2004-05-26|2004-05-27|  20040501|2004-05-31|2004/05/15|\n",
      "|2013/05/30|2013-05-30|2013-05-31|  20130501|2013-05-31|2013/05/15|\n",
      "|2013/02/18|2013-02-18|2013-02-19|  20130201|2013-02-28|2013/02/15|\n",
      "|2008/10/03|2008-10-03|2008-10-04|  20081001|2008-10-31|2008/10/15|\n",
      "|2008/09/09|2008-09-09|2008-09-10|  20080901|2008-09-30|2008/09/15|\n",
      "|2001/03/05|2001-03-05|2001-03-06|  20010301|2001-03-31|2001/03/15|\n",
      "|2002/08/27|2002-08-27|2002-08-28|  20020801|2002-08-31|2002/08/15|\n",
      "|2006/10/08|2006-10-08|2006-10-09|  20061001|2006-10-31|2006/10/15|\n",
      "|2015/12/30|2015-12-30|2015-12-31|  20151201|2015-12-31|2015/12/15|\n",
      "|2000/03/09|2000-03-09|2000-03-10|  20000301|2000-03-31|2000/03/15|\n",
      "|2000/06/03|2000-06-03|2000-06-04|  20000601|2000-06-30|2000/06/15|\n",
      "|2015/09/25|2015-09-25|2015-09-26|  20150901|2015-09-30|2015/09/15|\n",
      "|2005/10/05|2005-10-05|2005-10-06|  20051001|2005-10-31|2005/10/15|\n",
      "|2019/01/12|2019-01-12|2019-01-13|  20190101|2019-01-31|2019/01/15|\n",
      "|2010/04/22|2010-04-22|2010-04-23|  20100401|2010-04-30|2010/04/15|\n",
      "|2020/06/09|2020-06-09|2020-06-10|  20200601|2020-06-30|2020/06/15|\n",
      "+----------+----------+----------+----------+----------+----------+\n",
      "only showing top 20 rows\n",
      "\n",
      "+----------+----------+----------+----------+----------+----------+\n",
      "|simpleDate|         y|   addDays|monthFirst| monthLast| replaceBy|\n",
      "+----------+----------+----------+----------+----------+----------+\n",
      "|2004/10/02|2004-10-02|2004-10-03|  20041001|2004-10-31|2004/10/15|\n",
      "|2013/08/30|2013-08-30|2013-08-31|  20130801|2013-08-31|2013/08/15|\n",
      "|2017/09/13|2017-09-13|2017-09-14|  20170901|2017-09-30|2017/09/15|\n",
      "|2004/03/03|2004-03-03|2004-03-04|  20040301|2004-03-31|2004/03/15|\n",
      "|2004/05/26|2004-05-26|2004-05-27|  20040501|2004-05-31|2004/05/15|\n",
      "|2013/05/30|2013-05-30|2013-05-31|  20130501|2013-05-31|2013/05/15|\n",
      "|2013/02/18|2013-02-18|2013-02-19|  20130201|2013-02-28|2013/02/15|\n",
      "|2008/10/03|2008-10-03|2008-10-04|  20081001|2008-10-31|2008/10/15|\n",
      "|2008/09/09|2008-09-09|2008-09-10|  20080901|2008-09-30|2008/09/15|\n",
      "|2001/03/05|2001-03-05|2001-03-06|  20010301|2001-03-31|2001/03/15|\n",
      "|2002/08/27|2002-08-27|2002-08-28|  20020801|2002-08-31|2002/08/15|\n",
      "|2006/10/08|2006-10-08|2006-10-09|  20061001|2006-10-31|2006/10/15|\n",
      "|2015/12/30|2015-12-30|2015-12-31|  20151201|2015-12-31|2015/12/15|\n",
      "|2000/03/09|2000-03-09|2000-03-10|  20000301|2000-03-31|2000/03/15|\n",
      "|2000/06/03|2000-06-03|2000-06-04|  20000601|2000-06-30|2000/06/15|\n",
      "|2015/09/25|2015-09-25|2015-09-26|  20150901|2015-09-30|2015/09/15|\n",
      "|2005/10/05|2005-10-05|2005-10-06|  20051001|2005-10-31|2005/10/15|\n",
      "|2019/01/12|2019-01-12|2019-01-13|  20190101|2019-01-31|2019/01/15|\n",
      "|2010/04/22|2010-04-22|2010-04-23|  20100401|2010-04-30|2010/04/15|\n",
      "|2020/06/09|2020-06-09|2020-06-10|  20200601|2020-06-30|2020/06/15|\n",
      "+----------+----------+----------+----------+----------+----------+\n",
      "only showing top 20 rows\n",
      "\n",
      "+----------+----------+----------+----------+----------+----------+\n",
      "|simpleDate|         y|   addDays|monthFirst| monthLast| replaceBy|\n",
      "+----------+----------+----------+----------+----------+----------+\n",
      "|2004/10/02|2004-10-02|2004-10-03|  20041001|2004-10-31|2004/10/15|\n",
      "|2013/08/30|2013-08-30|2013-08-31|  20130801|2013-08-31|2013/08/15|\n",
      "|2017/09/13|2017-09-13|2017-09-14|  20170901|2017-09-30|2017/09/15|\n",
      "|2004/03/03|2004-03-03|2004-03-04|  20040301|2004-03-31|2004/03/15|\n",
      "|2004/05/26|2004-05-26|2004-05-27|  20040501|2004-05-31|2004/05/15|\n",
      "|2013/05/30|2013-05-30|2013-05-31|  20130501|2013-05-31|2013/05/15|\n",
      "|2013/02/18|2013-02-18|2013-02-19|  20130201|2013-02-28|2013/02/15|\n",
      "|2008/10/03|2008-10-03|2008-10-04|  20081001|2008-10-31|2008/10/15|\n",
      "|2008/09/09|2008-09-09|2008-09-10|  20080901|2008-09-30|2008/09/15|\n",
      "|2001/03/05|2001-03-05|2001-03-06|  20010301|2001-03-31|2001/03/15|\n",
      "|2002/08/27|2002-08-27|2002-08-28|  20020801|2002-08-31|2002/08/15|\n",
      "|2006/10/08|2006-10-08|2006-10-09|  20061001|2006-10-31|2006/10/15|\n",
      "|2015/12/30|2015-12-30|2015-12-31|  20151201|2015-12-31|2015/12/15|\n",
      "|2000/03/09|2000-03-09|2000-03-10|  20000301|2000-03-31|2000/03/15|\n",
      "|2000/06/03|2000-06-03|2000-06-04|  20000601|2000-06-30|2000/06/15|\n",
      "|2015/09/25|2015-09-25|2015-09-26|  20150901|2015-09-30|2015/09/15|\n",
      "|2005/10/05|2005-10-05|2005-10-06|  20051001|2005-10-31|2005/10/15|\n",
      "|2019/01/12|2019-01-12|2019-01-13|  20190101|2019-01-31|2019/01/15|\n",
      "|2010/04/22|2010-04-22|2010-04-23|  20100401|2010-04-30|2010/04/15|\n",
      "|2020/06/09|2020-06-09|2020-06-10|  20200601|2020-06-30|2020/06/15|\n",
      "+----------+----------+----------+----------+----------+----------+\n",
      "only showing top 20 rows\n",
      "\n",
      "+----------+----------+----------+----------+----------+----------+\n",
      "|simpleDate|         y|   addDays|monthFirst| monthLast| replaceBy|\n",
      "+----------+----------+----------+----------+----------+----------+\n",
      "|2004/10/02|2004-10-02|2004-10-03|  20041001|2004-10-31|2004/10/15|\n",
      "|2013/08/30|2013-08-30|2013-08-31|  20130801|2013-08-31|2013/08/15|\n",
      "|2017/09/13|2017-09-13|2017-09-14|  20170901|2017-09-30|2017/09/15|\n",
      "|2004/03/03|2004-03-03|2004-03-04|  20040301|2004-03-31|2004/03/15|\n",
      "|2004/05/26|2004-05-26|2004-05-27|  20040501|2004-05-31|2004/05/15|\n",
      "|2013/05/30|2013-05-30|2013-05-31|  20130501|2013-05-31|2013/05/15|\n",
      "|2013/02/18|2013-02-18|2013-02-19|  20130201|2013-02-28|2013/02/15|\n",
      "|2008/10/03|2008-10-03|2008-10-04|  20081001|2008-10-31|2008/10/15|\n",
      "|2008/09/09|2008-09-09|2008-09-10|  20080901|2008-09-30|2008/09/15|\n",
      "|2001/03/05|2001-03-05|2001-03-06|  20010301|2001-03-31|2001/03/15|\n",
      "|2002/08/27|2002-08-27|2002-08-28|  20020801|2002-08-31|2002/08/15|\n",
      "|2006/10/08|2006-10-08|2006-10-09|  20061001|2006-10-31|2006/10/15|\n",
      "|2015/12/30|2015-12-30|2015-12-31|  20151201|2015-12-31|2015/12/15|\n",
      "|2000/03/09|2000-03-09|2000-03-10|  20000301|2000-03-31|2000/03/15|\n",
      "|2000/06/03|2000-06-03|2000-06-04|  20000601|2000-06-30|2000/06/15|\n",
      "|2015/09/25|2015-09-25|2015-09-26|  20150901|2015-09-30|2015/09/15|\n",
      "|2005/10/05|2005-10-05|2005-10-06|  20051001|2005-10-31|2005/10/15|\n",
      "|2019/01/12|2019-01-12|2019-01-13|  20190101|2019-01-31|2019/01/15|\n",
      "|2010/04/22|2010-04-22|2010-04-23|  20100401|2010-04-30|2010/04/15|\n",
      "|2020/06/09|2020-06-09|2020-06-10|  20200601|2020-06-30|2020/06/15|\n",
      "+----------+----------+----------+----------+----------+----------+\n",
      "only showing top 20 rows\n",
      "\n",
      "4.24 s ± 143 ms per loop (mean ± std. dev. of 7 runs, 1 loop each)\n"
     ]
    }
   ],
   "source": [
    "%timeit od.convertDate('simpleDate','y')\\\n",
    "  .convertDate('simpleDate','addDays',addDays=1)\\\n",
    "  .convertDate('simpleDate','monthFirst',dformat='%Y%m%d',getMonthFirst=True)\\\n",
    "  .convertDate('simpleDate','monthLast',getMonthLast=True)\\\n",
    "  .convertDate('simpleDate','replaceBy',replaceBy=15,dformat='%Y/%m/%d').toSpark().show()"
   ]
  },
  {
   "cell_type": "code",
   "execution_count": null,
   "metadata": {},
   "outputs": [],
   "source": []
  }
 ],
 "metadata": {
  "kernelspec": {
   "display_name": "Python 3",
   "language": "python",
   "name": "python3"
  },
  "language_info": {
   "codemirror_mode": {
    "name": "ipython",
    "version": 3
   },
   "file_extension": ".py",
   "mimetype": "text/x-python",
   "name": "python",
   "nbconvert_exporter": "python",
   "pygments_lexer": "ipython3",
   "version": "3.8.3"
  }
 },
 "nbformat": 4,
 "nbformat_minor": 4
}
